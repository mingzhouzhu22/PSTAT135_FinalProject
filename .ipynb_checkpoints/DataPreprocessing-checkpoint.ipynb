{
 "cells": [
  {
   "cell_type": "markdown",
   "metadata": {},
   "source": [
    "# PSTAT 135 Final Project: Data Preprocessing"
   ]
  },
  {
   "cell_type": "code",
   "execution_count": null,
   "metadata": {},
   "outputs": [],
   "source": [
    "# global imports\n",
    "import pyspark\n",
    "from pyspark.sql.session import SparkSession\n",
    "import pyspark.sql.functions as W\n",
    "\n",
    "spark = SparkSession.builder.getOrCreate()"
   ]
  },
  {
   "cell_type": "markdown",
   "metadata": {},
   "source": [
    "# Examine Dataset"
   ]
  },
  {
   "cell_type": "code",
   "execution_count": null,
   "metadata": {},
   "outputs": [],
   "source": [
    "# import data\n",
    "tweets = spark.read.csv('Tweets.csv', header=True, inferSchema=True)\n",
    "# output dataframe\n",
    "tweets.toPandas().head(2)"
   ]
  },
  {
   "cell_type": "code",
   "execution_count": null,
   "metadata": {},
   "outputs": [],
   "source": [
    "# output dimensions of the dataset\n",
    "print(\"Number of rows: \",tweets.count())\n",
    "print(\"Number of columns: \",len(tweets.columns))"
   ]
  },
  {
   "cell_type": "code",
   "execution_count": null,
   "metadata": {},
   "outputs": [],
   "source": [
    "# output data types of each column\n",
    "tweets.dtypes"
   ]
  },
  {
   "cell_type": "markdown",
   "metadata": {},
   "source": [
    "# Duplicates"
   ]
  },
  {
   "cell_type": "code",
   "execution_count": null,
   "metadata": {},
   "outputs": [],
   "source": [
    "# number of distinct observations\n",
    "tweets.distinct().count()"
   ]
  },
  {
   "cell_type": "code",
   "execution_count": null,
   "metadata": {},
   "outputs": [],
   "source": [
    "# drop duplicates\n",
    "tweets = tweets.dropDuplicates()\n",
    "# confirm they were dropped\n",
    "tweets.count()"
   ]
  },
  {
   "cell_type": "code",
   "execution_count": null,
   "metadata": {},
   "outputs": [],
   "source": [
    "# count of distinct rows excluding id\n",
    "tweets.select([c for c in tweets.columns if c!='tweet_id']).distinct().count()"
   ]
  },
  {
   "cell_type": "code",
   "execution_count": null,
   "metadata": {},
   "outputs": [],
   "source": [
    "# output values that are duplicates for all columns except tweet_id\n",
    "tweets.groupBy('airline_sentiment','airline_sentiment_confidence','negativereason',\n",
    "               'negativereason_confidence','airline','airline_sentiment_gold',\n",
    "               'name','negativereason_gold','retweet_count','text','tweet_coord',\n",
    "               'tweet_created','tweet_location','user_timezone')\\\n",
    "    .count()\\\n",
    "    .where(W.col('count')>1)\\\n",
    "    .toPandas()"
   ]
  },
  {
   "cell_type": "code",
   "execution_count": null,
   "metadata": {},
   "outputs": [],
   "source": [
    "# drop duplicates for rows excluding id\n",
    "tweets = tweets.dropDuplicates(subset=[c for c in tweets.columns if c!='tweet_id'])\n",
    "# confirm duplicates were dropped\n",
    "tweets.count()"
   ]
  },
  {
   "cell_type": "markdown",
   "metadata": {},
   "source": [
    "# Missing Values\n",
    "\n",
    "We will remove all of the rows with missing values for `text` since this column will be used to do sentiment analysis. There are missing values for some of the variables that will be used in exploratory data analysis, and we will ignore these missing values. "
   ]
  },
  {
   "cell_type": "code",
   "execution_count": null,
   "metadata": {},
   "outputs": [],
   "source": [
    "# number of missing values for each column\n",
    "tweets.select(*(W.sum(W.col(c).isNull().cast('int')).alias(c) for c in tweets.columns)).toPandas()"
   ]
  },
  {
   "cell_type": "code",
   "execution_count": null,
   "metadata": {},
   "outputs": [],
   "source": [
    "# remove rows where text is missing\n",
    "tweets = tweets.dropna(subset='text')"
   ]
  },
  {
   "cell_type": "markdown",
   "metadata": {},
   "source": [
    "# Select Desired Columns"
   ]
  },
  {
   "cell_type": "code",
   "execution_count": null,
   "metadata": {},
   "outputs": [],
   "source": [
    "# select columns\n",
    "tweets = tweets.select('airline_sentiment','negativereason','airline',\n",
    "                       'retweet_count','text','tweet_created',\n",
    "                       'tweet_location','user_timezone')\n",
    "# output dataframe\n",
    "tweets.toPandas().head(2)"
   ]
  }
 ],
 "metadata": {
  "kernelspec": {
   "display_name": "Python 3",
   "language": "python",
   "name": "python3"
  },
  "language_info": {
   "codemirror_mode": {
    "name": "ipython",
    "version": 3
   },
   "file_extension": ".py",
   "mimetype": "text/x-python",
   "name": "python",
   "nbconvert_exporter": "python",
   "pygments_lexer": "ipython3",
   "version": "3.7.6"
  }
 },
 "nbformat": 4,
 "nbformat_minor": 4
}
