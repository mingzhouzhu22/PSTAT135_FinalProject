{
 "cells": [
  {
   "cell_type": "markdown",
   "metadata": {},
   "source": [
    "# Machine Learning"
   ]
  },
  {
   "cell_type": "code",
   "execution_count": null,
   "metadata": {},
   "outputs": [],
   "source": [
    "# global imports\n",
    "import pyspark\n",
    "from pyspark.sql.session import SparkSession\n",
    "# evaluator\n",
    "from pyspark.ml.evaluation import BinaryClassificationEvaluator\n",
    "\n",
    "spark = SparkSession.builder.getOrCreate()"
   ]
  },
  {
   "cell_type": "markdown",
   "metadata": {},
   "source": [
    "# Import Data"
   ]
  },
  {
   "cell_type": "code",
   "execution_count": null,
   "metadata": {},
   "outputs": [],
   "source": [
    "# import data\n",
    "%store -r dfs"
   ]
  },
  {
   "cell_type": "code",
   "execution_count": null,
   "metadata": {},
   "outputs": [],
   "source": [
    "train = spark.createDataFrame(dfs[0])\n",
    "train.toPandas().head()"
   ]
  },
  {
   "cell_type": "code",
   "execution_count": null,
   "metadata": {},
   "outputs": [],
   "source": [
    "test = spark.createDataFrame(dfs[1])\n",
    "test.toPandas().head()"
   ]
  },
  {
   "cell_type": "markdown",
   "metadata": {},
   "source": [
    "# Build Model"
   ]
  },
  {
   "cell_type": "markdown",
   "metadata": {},
   "source": [
    "## Notes\n",
    "\n",
    "- I did some research, and since this is an imbalanced classification problem, it's best to use `areaUnderPR` as the metric for evaluating model performance\n",
    "    - When doing cross validation and assessing the model at the end, please use the variable `class_eval` as the evaluator since it is set up to evaluate based on `areaUnderPR`\n",
    "- Use 5 fold CV so all the models are trained consistently, and `setSeed()` with a random seed to get reproducible results\n",
    "\n",
    "I hope these notes help make building the models easier and smoother :) \n",
    "\n",
    "## Models to Build\n",
    "- Logistic Regression\n",
    "    - Lasso, Ridge, Elastic Net, and Logistic Regression (no penalization)\n",
    "- Decision Tree\n",
    "- Random Forest\n",
    "- Gradient Boosted Tree\n",
    "- Multilayer Perceptron\n",
    "- Linear Support Vector Machine\n",
    "- Naive Bayes\n",
    "\n",
    "Note that not all of these models are likely to work with our data. If you get weird results (like classifying every observation as `0`), we can choose not to talk about it in the final project, so don't spend too much time worrying if a model does particularly badly :)\n",
    "\n",
    "- For example, I messed around with Logistic Regerssion a little (didn't hyperparameter tune though) and it seems like it's not going to work with our data\n",
    "- I did look at Gradient Boosted Tree, and without hyperparameter tuning, it classifies correctly 75% of the time, so there definitely are models that will work so no need to worry about not getting any results :) "
   ]
  },
  {
   "cell_type": "code",
   "execution_count": null,
   "metadata": {},
   "outputs": [],
   "source": [
    "# classification evaluator\n",
    "class_eval =  BinaryClassificationEvaluator().setLabelCol('label_idx').setMetricName('areaUnderPR')"
   ]
  },
  {
   "cell_type": "code",
   "execution_count": null,
   "metadata": {},
   "outputs": [],
   "source": []
  }
 ],
 "metadata": {
  "kernelspec": {
   "display_name": "Python 3",
   "language": "python",
   "name": "python3"
  },
  "language_info": {
   "codemirror_mode": {
    "name": "ipython",
    "version": 3
   },
   "file_extension": ".py",
   "mimetype": "text/x-python",
   "name": "python",
   "nbconvert_exporter": "python",
   "pygments_lexer": "ipython3",
   "version": "3.7.6"
  }
 },
 "nbformat": 4,
 "nbformat_minor": 4
}
