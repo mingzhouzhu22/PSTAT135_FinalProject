{
 "cells": [
  {
   "cell_type": "markdown",
   "metadata": {},
   "source": [
    "# Analyze Machine Learning Results"
   ]
  },
  {
   "cell_type": "code",
   "execution_count": 1,
   "metadata": {},
   "outputs": [],
   "source": [
    "# global imports\n",
    "import pyspark\n",
    "from pyspark.sql.session import SparkSession\n",
    "\n",
    "spark = SparkSession.builder.getOrCreate()"
   ]
  },
  {
   "cell_type": "markdown",
   "metadata": {},
   "source": [
    "# Import Data"
   ]
  },
  {
   "cell_type": "code",
   "execution_count": 2,
   "metadata": {},
   "outputs": [],
   "source": [
    "# import data\n",
    "%store -r ml_dfs"
   ]
  },
  {
   "cell_type": "code",
   "execution_count": 3,
   "metadata": {},
   "outputs": [
    {
     "name": "stdout",
     "output_type": "stream",
     "text": [
      "+--------------------+---------+--------------------+----------+\n",
      "|           count_vec|label_idx|       rawPrediction|prediction|\n",
      "+--------------------+---------+--------------------+----------+\n",
      "|(349,[2,58,118,12...|      0.0|[0.76933931432304...|       0.0|\n",
      "|(349,[0,4,134,186...|      1.0|[-0.4556061437591...|       1.0|\n",
      "+--------------------+---------+--------------------+----------+\n",
      "only showing top 2 rows\n",
      "\n"
     ]
    }
   ],
   "source": [
    "lsvc_test = spark.createDataFrame(ml_dfs[0])\n",
    "lsvc_test.show(2)"
   ]
  },
  {
   "cell_type": "code",
   "execution_count": 4,
   "metadata": {},
   "outputs": [
    {
     "name": "stdout",
     "output_type": "stream",
     "text": [
      "+--------------------+---------+-------+---+--------+-------+--------+----------+----------+---------+\n",
      "|           count_vec|label_idx|rf_pred| id|gbt_pred|nb_pred|ols_pred|lasso_pred|ridge_pred|lsvc_pred|\n",
      "+--------------------+---------+-------+---+--------+-------+--------+----------+----------+---------+\n",
      "|(349,[2,58,118,12...|      0.0|    0.0|  1|     0.0|    0.0|     0.0|       0.0|       0.0|      0.0|\n",
      "|(349,[0,4,134,186...|      1.0|    0.0|  2|     1.0|    1.0|     1.0|       1.0|       1.0|      1.0|\n",
      "+--------------------+---------+-------+---+--------+-------+--------+----------+----------+---------+\n",
      "only showing top 2 rows\n",
      "\n"
     ]
    }
   ],
   "source": [
    "x = spark.createDataFrame(ml_dfs[1])\n",
    "x.show(2)"
   ]
  },
  {
   "cell_type": "code",
   "execution_count": null,
   "metadata": {},
   "outputs": [],
   "source": []
  }
 ],
 "metadata": {
  "kernelspec": {
   "display_name": "Python 3",
   "language": "python",
   "name": "python3"
  },
  "language_info": {
   "codemirror_mode": {
    "name": "ipython",
    "version": 3
   },
   "file_extension": ".py",
   "mimetype": "text/x-python",
   "name": "python",
   "nbconvert_exporter": "python",
   "pygments_lexer": "ipython3",
   "version": "3.7.3"
  }
 },
 "nbformat": 4,
 "nbformat_minor": 4
}
