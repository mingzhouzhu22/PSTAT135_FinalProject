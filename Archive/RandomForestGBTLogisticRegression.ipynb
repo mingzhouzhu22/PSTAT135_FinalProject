{
 "cells": [
  {
   "cell_type": "markdown",
   "metadata": {},
   "source": [
    "# Machine Learning"
   ]
  },
  {
   "cell_type": "code",
   "execution_count": 1,
   "metadata": {},
   "outputs": [],
   "source": [
    "# global imports\n",
    "import pyspark\n",
    "from pyspark.sql.session import SparkSession\n",
    "# evaluator\n",
    "from pyspark.ml.evaluation import BinaryClassificationEvaluator\n",
    "\n",
    "spark = SparkSession.builder.getOrCreate()"
   ]
  },
  {
   "cell_type": "markdown",
   "metadata": {},
   "source": [
    "# Import Data"
   ]
  },
  {
   "cell_type": "code",
   "execution_count": 2,
   "metadata": {},
   "outputs": [],
   "source": [
    "# import data\n",
    "%store -r dfs"
   ]
  },
  {
   "cell_type": "code",
   "execution_count": 3,
   "metadata": {},
   "outputs": [
    {
     "data": {
      "text/html": [
       "<div>\n",
       "<style scoped>\n",
       "    .dataframe tbody tr th:only-of-type {\n",
       "        vertical-align: middle;\n",
       "    }\n",
       "\n",
       "    .dataframe tbody tr th {\n",
       "        vertical-align: top;\n",
       "    }\n",
       "\n",
       "    .dataframe thead th {\n",
       "        text-align: right;\n",
       "    }\n",
       "</style>\n",
       "<table border=\"1\" class=\"dataframe\">\n",
       "  <thead>\n",
       "    <tr style=\"text-align: right;\">\n",
       "      <th></th>\n",
       "      <th>count_vec</th>\n",
       "      <th>label_idx</th>\n",
       "    </tr>\n",
       "  </thead>\n",
       "  <tbody>\n",
       "    <tr>\n",
       "      <th>0</th>\n",
       "      <td>(1.0, 0.0, 1.0, 0.0, 0.0, 0.0, 0.0, 0.0, 0.0, ...</td>\n",
       "      <td>0.0</td>\n",
       "    </tr>\n",
       "    <tr>\n",
       "      <th>1</th>\n",
       "      <td>(0.0, 0.0, 0.0, 0.0, 0.0, 1.0, 0.0, 1.0, 1.0, ...</td>\n",
       "      <td>1.0</td>\n",
       "    </tr>\n",
       "    <tr>\n",
       "      <th>2</th>\n",
       "      <td>(1.0, 0.0, 0.0, 0.0, 0.0, 1.0, 1.0, 0.0, 0.0, ...</td>\n",
       "      <td>0.0</td>\n",
       "    </tr>\n",
       "    <tr>\n",
       "      <th>3</th>\n",
       "      <td>(0.0, 0.0, 0.0, 0.0, 0.0, 1.0, 0.0, 0.0, 0.0, ...</td>\n",
       "      <td>1.0</td>\n",
       "    </tr>\n",
       "    <tr>\n",
       "      <th>4</th>\n",
       "      <td>(0.0, 0.0, 1.0, 0.0, 0.0, 0.0, 0.0, 0.0, 0.0, ...</td>\n",
       "      <td>1.0</td>\n",
       "    </tr>\n",
       "  </tbody>\n",
       "</table>\n",
       "</div>"
      ],
      "text/plain": [
       "                                           count_vec  label_idx\n",
       "0  (1.0, 0.0, 1.0, 0.0, 0.0, 0.0, 0.0, 0.0, 0.0, ...        0.0\n",
       "1  (0.0, 0.0, 0.0, 0.0, 0.0, 1.0, 0.0, 1.0, 1.0, ...        1.0\n",
       "2  (1.0, 0.0, 0.0, 0.0, 0.0, 1.0, 1.0, 0.0, 0.0, ...        0.0\n",
       "3  (0.0, 0.0, 0.0, 0.0, 0.0, 1.0, 0.0, 0.0, 0.0, ...        1.0\n",
       "4  (0.0, 0.0, 1.0, 0.0, 0.0, 0.0, 0.0, 0.0, 0.0, ...        1.0"
      ]
     },
     "execution_count": 3,
     "metadata": {},
     "output_type": "execute_result"
    }
   ],
   "source": [
    "train = spark.createDataFrame(dfs[0])\n",
    "train.toPandas().head()"
   ]
  },
  {
   "cell_type": "code",
   "execution_count": 4,
   "metadata": {},
   "outputs": [
    {
     "data": {
      "text/html": [
       "<div>\n",
       "<style scoped>\n",
       "    .dataframe tbody tr th:only-of-type {\n",
       "        vertical-align: middle;\n",
       "    }\n",
       "\n",
       "    .dataframe tbody tr th {\n",
       "        vertical-align: top;\n",
       "    }\n",
       "\n",
       "    .dataframe thead th {\n",
       "        text-align: right;\n",
       "    }\n",
       "</style>\n",
       "<table border=\"1\" class=\"dataframe\">\n",
       "  <thead>\n",
       "    <tr style=\"text-align: right;\">\n",
       "      <th></th>\n",
       "      <th>count_vec</th>\n",
       "      <th>label_idx</th>\n",
       "    </tr>\n",
       "  </thead>\n",
       "  <tbody>\n",
       "    <tr>\n",
       "      <th>0</th>\n",
       "      <td>(0.0, 0.0, 1.0, 0.0, 0.0, 0.0, 0.0, 0.0, 0.0, ...</td>\n",
       "      <td>0.0</td>\n",
       "    </tr>\n",
       "    <tr>\n",
       "      <th>1</th>\n",
       "      <td>(1.0, 0.0, 0.0, 0.0, 1.0, 0.0, 0.0, 0.0, 0.0, ...</td>\n",
       "      <td>1.0</td>\n",
       "    </tr>\n",
       "    <tr>\n",
       "      <th>2</th>\n",
       "      <td>(0.0, 1.0, 0.0, 0.0, 0.0, 0.0, 0.0, 0.0, 0.0, ...</td>\n",
       "      <td>1.0</td>\n",
       "    </tr>\n",
       "    <tr>\n",
       "      <th>3</th>\n",
       "      <td>(0.0, 1.0, 0.0, 0.0, 0.0, 0.0, 1.0, 0.0, 0.0, ...</td>\n",
       "      <td>0.0</td>\n",
       "    </tr>\n",
       "    <tr>\n",
       "      <th>4</th>\n",
       "      <td>(0.0, 1.0, 0.0, 0.0, 0.0, 0.0, 0.0, 0.0, 0.0, ...</td>\n",
       "      <td>0.0</td>\n",
       "    </tr>\n",
       "  </tbody>\n",
       "</table>\n",
       "</div>"
      ],
      "text/plain": [
       "                                           count_vec  label_idx\n",
       "0  (0.0, 0.0, 1.0, 0.0, 0.0, 0.0, 0.0, 0.0, 0.0, ...        0.0\n",
       "1  (1.0, 0.0, 0.0, 0.0, 1.0, 0.0, 0.0, 0.0, 0.0, ...        1.0\n",
       "2  (0.0, 1.0, 0.0, 0.0, 0.0, 0.0, 0.0, 0.0, 0.0, ...        1.0\n",
       "3  (0.0, 1.0, 0.0, 0.0, 0.0, 0.0, 1.0, 0.0, 0.0, ...        0.0\n",
       "4  (0.0, 1.0, 0.0, 0.0, 0.0, 0.0, 0.0, 0.0, 0.0, ...        0.0"
      ]
     },
     "execution_count": 4,
     "metadata": {},
     "output_type": "execute_result"
    }
   ],
   "source": [
    "test = spark.createDataFrame(dfs[1])\n",
    "test.toPandas().head()"
   ]
  },
  {
   "cell_type": "markdown",
   "metadata": {},
   "source": [
    "#### NOTE:\n",
    "\n",
    "label_idx = 0 is a negative tweet, and label_idx = 1 is a positive tweet. "
   ]
  },
  {
   "cell_type": "code",
   "execution_count": 144,
   "metadata": {},
   "outputs": [
    {
     "name": "stdout",
     "output_type": "stream",
     "text": [
      "Writing 'train' (DataFrame) to file 'cleantrain.csv'.\n"
     ]
    }
   ],
   "source": [
    "train = spark.createDataFrame(dfs[0])\n",
    "%store train >cleantrain.csv"
   ]
  },
  {
   "cell_type": "code",
   "execution_count": null,
   "metadata": {},
   "outputs": [],
   "source": [
    "train.coalesce(1).write.option('header','true').csv('CleanTrain.csv')"
   ]
  },
  {
   "cell_type": "markdown",
   "metadata": {},
   "source": [
    "# Build Model"
   ]
  },
  {
   "cell_type": "markdown",
   "metadata": {},
   "source": [
    "## Notes\n",
    "\n",
    "- I did some research, and since this is an imbalanced classification problem, it's best to use `areaUnderPR` as the metric for evaluating model performance\n",
    "    - When doing cross validation and assessing the model at the end, please use the variable `class_eval` as the evaluator since it is set up to evaluate based on `areaUnderPR`\n",
    "- Use 5 fold CV so all the models are trained consistently, and `setSeed()` with a random seed to get reproducible results\n",
    "\n",
    "I hope these notes help make building the models easier and smoother :) \n",
    "\n",
    "## Models to Build\n",
    "- Logistic Regression\n",
    "    - Lasso, Ridge, Elastic Net, and Logistic Regression (no penalization)\n",
    "- Decision Tree\n",
    "- Random Forest\n",
    "- Gradient Boosted Tree\n",
    "- Multilayer Perceptron\n",
    "- Linear Support Vector Machine\n",
    "- Naive Bayes\n",
    "\n",
    "Note that not all of these models are likely to work with our data. If you get weird results (like classifying every observation as `0`), we can choose not to talk about it in the final project, so don't spend too much time worrying if a model does particularly badly :)\n",
    "\n",
    "- For example, I messed around with Logistic Regerssion a little (didn't hyperparameter tune though) and it seems like it's not going to work with our data\n",
    "- I did look at Gradient Boosted Tree, and without hyperparameter tuning, it classifies correctly 75% of the time, so there definitely are models that will work so no need to worry about not getting any results :) "
   ]
  },
  {
   "cell_type": "code",
   "execution_count": 19,
   "metadata": {},
   "outputs": [],
   "source": [
    "# classification evaluator\n",
    "class_eval =  BinaryClassificationEvaluator().setLabelCol('label_idx').setMetricName('areaUnderPR')"
   ]
  },
  {
   "cell_type": "markdown",
   "metadata": {},
   "source": [
    "# Testing different classifiers"
   ]
  },
  {
   "cell_type": "code",
   "execution_count": null,
   "metadata": {},
   "outputs": [],
   "source": []
  },
  {
   "cell_type": "markdown",
   "metadata": {},
   "source": [
    "## 1) Random Forest"
   ]
  },
  {
   "cell_type": "code",
   "execution_count": 9,
   "metadata": {},
   "outputs": [],
   "source": [
    "# machine learning transformations\n",
    "from pyspark.ml.feature import VectorAssembler, StringIndexer, OneHotEncoder\n",
    "# machine learning models\n",
    "from pyspark.ml.regression import LinearRegression\n",
    "from pyspark.ml.classification import RandomForestClassifier, GBTClassifier\n",
    "# evaluators\n",
    "from pyspark.ml.evaluation import RegressionEvaluator, BinaryClassificationEvaluator\n",
    "# cross validation\n",
    "from pyspark.ml.tuning import ParamGridBuilder, CrossValidator\n",
    "# pipeline\n",
    "from pyspark.ml import Pipeline"
   ]
  },
  {
   "cell_type": "code",
   "execution_count": 10,
   "metadata": {},
   "outputs": [],
   "source": [
    "# create random forest model\n",
    "rf_cv = RandomForestClassifier(featuresCol='count_vec', labelCol='label_idx', featureSubsetStrategy='sqrt')\\\n",
    "                              .setSeed(135)\n",
    "# parameter grid\n",
    "pars21 = ParamGridBuilder().addGrid(rf_cv.numTrees,[10,100,500,1000]).build()\n",
    "\n",
    "# classification evaluator (done at beginning)\n",
    "\n",
    "# create cross validator\n",
    "cv_rf = CrossValidator().setEstimator(rf_cv)\\\n",
    "                        .setEvaluator(class_eval)\\\n",
    "                        .setEstimatorParamMaps(pars21)\\\n",
    "                        .setNumFolds(5)\\\n",
    "                        .setSeed(135)"
   ]
  },
  {
   "cell_type": "code",
   "execution_count": 11,
   "metadata": {},
   "outputs": [
    {
     "data": {
      "text/plain": [
       "500"
      ]
     },
     "execution_count": 11,
     "metadata": {},
     "output_type": "execute_result"
    }
   ],
   "source": [
    "# CODE FOR RUNNING THE CROSS VALIDATION\n",
    "# run cross validation\n",
    "cv_rf_model = cv_rf.fit(train)\n",
    "# get best model\n",
    "best_rf = cv_rf_model.bestModel\n",
    "# output best parameter\n",
    "best_rf._java_obj.getNumTrees()"
   ]
  },
  {
   "cell_type": "code",
   "execution_count": 12,
   "metadata": {},
   "outputs": [],
   "source": [
    "# RUNNING THE CROSS VALIDATION A SECOND TIME\n",
    "\n",
    "# create random forest model (again)\n",
    "rf_cv = RandomForestClassifier(featuresCol='count_vec', labelCol='label_idx', featureSubsetStrategy='sqrt')\\\n",
    "                              .setSeed(135)\n",
    "# parameter grid (again)\n",
    "pars22 = ParamGridBuilder().addGrid(rf_cv.numTrees,[400,500,550,600]).build()\n",
    "\n",
    "# classification evaluator (done at beginning)\n",
    "\n",
    "# create cross validator (again)\n",
    "cv_rf = CrossValidator().setEstimator(rf_cv)\\\n",
    "                        .setEvaluator(class_eval)\\\n",
    "                        .setEstimatorParamMaps(pars22)\\\n",
    "                        .setNumFolds(5)\\\n",
    "                        .setSeed(135)"
   ]
  },
  {
   "cell_type": "code",
   "execution_count": 13,
   "metadata": {},
   "outputs": [
    {
     "data": {
      "text/plain": [
       "500"
      ]
     },
     "execution_count": 13,
     "metadata": {},
     "output_type": "execute_result"
    }
   ],
   "source": [
    "# run cross validation\n",
    "cv_rf_model = cv_rf.fit(train)\n",
    "# get best model\n",
    "best_rf = cv_rf_model.bestModel\n",
    "# output best parameter\n",
    "best_rf._java_obj.getNumTrees()"
   ]
  },
  {
   "cell_type": "code",
   "execution_count": null,
   "metadata": {},
   "outputs": [],
   "source": [
    "# TRAINING THE MODEL"
   ]
  },
  {
   "cell_type": "code",
   "execution_count": 14,
   "metadata": {},
   "outputs": [],
   "source": [
    "# create the final model\n",
    "rf = RandomForestClassifier(featuresCol='count_vec', labelCol='label_idx', featureSubsetStrategy='sqrt', numTrees=500).setSeed(135)\n",
    "# train the model\n",
    "rf_model = rf.fit(train)\n",
    "# obtain predictions for test\n",
    "test_rf = rf_model.transform(test)"
   ]
  },
  {
   "cell_type": "code",
   "execution_count": 16,
   "metadata": {},
   "outputs": [
    {
     "data": {
      "text/html": [
       "<div>\n",
       "<style scoped>\n",
       "    .dataframe tbody tr th:only-of-type {\n",
       "        vertical-align: middle;\n",
       "    }\n",
       "\n",
       "    .dataframe tbody tr th {\n",
       "        vertical-align: top;\n",
       "    }\n",
       "\n",
       "    .dataframe thead th {\n",
       "        text-align: right;\n",
       "    }\n",
       "</style>\n",
       "<table border=\"1\" class=\"dataframe\">\n",
       "  <thead>\n",
       "    <tr style=\"text-align: right;\">\n",
       "      <th></th>\n",
       "      <th>label_idx_prediction</th>\n",
       "      <th>0.0</th>\n",
       "      <th>1.0</th>\n",
       "    </tr>\n",
       "  </thead>\n",
       "  <tbody>\n",
       "    <tr>\n",
       "      <th>0</th>\n",
       "      <td>1.0</td>\n",
       "      <td>1364</td>\n",
       "      <td>229</td>\n",
       "    </tr>\n",
       "    <tr>\n",
       "      <th>1</th>\n",
       "      <td>0.0</td>\n",
       "      <td>2751</td>\n",
       "      <td>28</td>\n",
       "    </tr>\n",
       "  </tbody>\n",
       "</table>\n",
       "</div>"
      ],
      "text/plain": [
       "  label_idx_prediction   0.0  1.0\n",
       "0                  1.0  1364  229\n",
       "1                  0.0  2751   28"
      ]
     },
     "execution_count": 16,
     "metadata": {},
     "output_type": "execute_result"
    }
   ],
   "source": [
    "# create confusion matrix\n",
    "confusion_matrix_rf = test_rf.select('label_idx','prediction')\n",
    "# ‘label’ is row and ‘prediction’ is column\n",
    "confusion_matrix_rf.stat.crosstab('label_idx','prediction').toPandas()"
   ]
  },
  {
   "cell_type": "code",
   "execution_count": 34,
   "metadata": {},
   "outputs": [
    {
     "name": "stdout",
     "output_type": "stream",
     "text": [
      "area under PR on test data for random forest model:  0.7068366396608519\n"
     ]
    }
   ],
   "source": [
    "# test error\n",
    "test_error_rf = class_eval.evaluate(test_rf)\n",
    "print(\"area under PR on test data for random forest model: \", test_error_rf)"
   ]
  },
  {
   "cell_type": "markdown",
   "metadata": {},
   "source": [
    "Out of 4,372 observations, it misclassified 1,392. This means it had 68% accuracy"
   ]
  },
  {
   "cell_type": "code",
   "execution_count": null,
   "metadata": {},
   "outputs": [],
   "source": []
  },
  {
   "cell_type": "markdown",
   "metadata": {},
   "source": [
    "## 2) Gradient Boosted Tree"
   ]
  },
  {
   "cell_type": "code",
   "execution_count": 20,
   "metadata": {},
   "outputs": [],
   "source": [
    "# create gbt model\n",
    "gbt_cv = GBTClassifier(featuresCol='count_vec', labelCol='label_idx').setSeed(135)\n",
    "# parameter grid\n",
    "pars23 = ParamGridBuilder().addGrid(gbt_cv.stepSize,[0.1,0.5,0.9])\\\n",
    "                           .addGrid(gbt_cv.maxIter,[50,100,200])\\\n",
    "                           .build()\n",
    "# create cross validator\n",
    "cv_gbt = CrossValidator().setEstimator(gbt_cv)\\\n",
    "                         .setEvaluator(class_eval)\\\n",
    "                         .setEstimatorParamMaps(pars23)\\\n",
    "                         .setNumFolds(5)\\\n",
    "                         .setSeed(135)"
   ]
  },
  {
   "cell_type": "code",
   "execution_count": 21,
   "metadata": {},
   "outputs": [
    {
     "name": "stdout",
     "output_type": "stream",
     "text": [
      "Best Step Size:  0.1\n",
      "Best Number of Trees:  200\n"
     ]
    }
   ],
   "source": [
    "# CROSS VALIDATION\n",
    "\n",
    "# run cross validation\n",
    "cv_gbt_model = cv_gbt.fit(train)\n",
    "# get best model\n",
    "best_gbt = cv_gbt_model.bestModel\n",
    "# output best parameters\n",
    "print('Best Step Size: ',best_gbt._java_obj.getStepSize())\n",
    "print('Best Number of Trees: ',best_gbt._java_obj.getMaxIter())"
   ]
  },
  {
   "cell_type": "code",
   "execution_count": 23,
   "metadata": {},
   "outputs": [],
   "source": [
    "# create the final model\n",
    "gbt = GBTClassifier(featuresCol='count_vec', labelCol='label_idx', stepSize=0.1,maxIter=200).setSeed(135)\n",
    "# train the model\n",
    "gbt_model = gbt.fit(train)\n",
    "# obtain predictions for test\n",
    "test_gbt = gbt_model.transform(test)"
   ]
  },
  {
   "cell_type": "code",
   "execution_count": 24,
   "metadata": {},
   "outputs": [
    {
     "data": {
      "text/html": [
       "<div>\n",
       "<style scoped>\n",
       "    .dataframe tbody tr th:only-of-type {\n",
       "        vertical-align: middle;\n",
       "    }\n",
       "\n",
       "    .dataframe tbody tr th {\n",
       "        vertical-align: top;\n",
       "    }\n",
       "\n",
       "    .dataframe thead th {\n",
       "        text-align: right;\n",
       "    }\n",
       "</style>\n",
       "<table border=\"1\" class=\"dataframe\">\n",
       "  <thead>\n",
       "    <tr style=\"text-align: right;\">\n",
       "      <th></th>\n",
       "      <th>label_idx_prediction</th>\n",
       "      <th>0.0</th>\n",
       "      <th>1.0</th>\n",
       "    </tr>\n",
       "  </thead>\n",
       "  <tbody>\n",
       "    <tr>\n",
       "      <th>0</th>\n",
       "      <td>1.0</td>\n",
       "      <td>591</td>\n",
       "      <td>1002</td>\n",
       "    </tr>\n",
       "    <tr>\n",
       "      <th>1</th>\n",
       "      <td>0.0</td>\n",
       "      <td>2413</td>\n",
       "      <td>366</td>\n",
       "    </tr>\n",
       "  </tbody>\n",
       "</table>\n",
       "</div>"
      ],
      "text/plain": [
       "  label_idx_prediction   0.0   1.0\n",
       "0                  1.0   591  1002\n",
       "1                  0.0  2413   366"
      ]
     },
     "execution_count": 24,
     "metadata": {},
     "output_type": "execute_result"
    }
   ],
   "source": [
    "# create confusion matrix\n",
    "confusion_matrix_gbt = test_gbt.select('label_idx','prediction')\n",
    "# ‘label’ is row and ‘prediction’ is column\n",
    "confusion_matrix_gbt.stat.crosstab('label_idx','prediction').toPandas()"
   ]
  },
  {
   "cell_type": "code",
   "execution_count": 35,
   "metadata": {},
   "outputs": [
    {
     "name": "stdout",
     "output_type": "stream",
     "text": [
      "area under PR on test data for gradient boosted tree:  0.7746873601048426\n"
     ]
    }
   ],
   "source": [
    "# test error\n",
    "test_error_gbt = class_eval.evaluate(test_gbt)\n",
    "print(\"area under PR on test data for gradient boosted tree: \", test_error_gbt)"
   ]
  },
  {
   "cell_type": "markdown",
   "metadata": {},
   "source": [
    "Out of 4,372 observations it misclassified 957. This means it had 78% accuracy"
   ]
  },
  {
   "cell_type": "markdown",
   "metadata": {},
   "source": []
  },
  {
   "cell_type": "markdown",
   "metadata": {},
   "source": [
    "## 3) Logistic Regression"
   ]
  },
  {
   "cell_type": "markdown",
   "metadata": {},
   "source": [
    "### 3a) OLS"
   ]
  },
  {
   "cell_type": "code",
   "execution_count": 126,
   "metadata": {},
   "outputs": [],
   "source": [
    "# create the final model\n",
    "ols = LogisticRegression(featuresCol='count_vec', labelCol='label_idx', elasticNetParam=1, regParam=0.0)\n",
    "# train the model\n",
    "ols_model = ols.fit(train)\n",
    "# obtain predictions for test\n",
    "test_ols = ols_model.transform(test)"
   ]
  },
  {
   "cell_type": "code",
   "execution_count": 127,
   "metadata": {},
   "outputs": [
    {
     "name": "stdout",
     "output_type": "stream",
     "text": [
      "OLS intercept:  0.705841109209693\n"
     ]
    }
   ],
   "source": [
    "# output coefficients\n",
    "print(\"OLS intercept: \", ols_model.intercept)\n",
    "#print(\"OLS coefficients: \", ols_model.coefficients) # long output"
   ]
  },
  {
   "cell_type": "code",
   "execution_count": 128,
   "metadata": {},
   "outputs": [
    {
     "data": {
      "text/html": [
       "<div>\n",
       "<style scoped>\n",
       "    .dataframe tbody tr th:only-of-type {\n",
       "        vertical-align: middle;\n",
       "    }\n",
       "\n",
       "    .dataframe tbody tr th {\n",
       "        vertical-align: top;\n",
       "    }\n",
       "\n",
       "    .dataframe thead th {\n",
       "        text-align: right;\n",
       "    }\n",
       "</style>\n",
       "<table border=\"1\" class=\"dataframe\">\n",
       "  <thead>\n",
       "    <tr style=\"text-align: right;\">\n",
       "      <th></th>\n",
       "      <th>label_idx_prediction</th>\n",
       "      <th>0.0</th>\n",
       "      <th>1.0</th>\n",
       "    </tr>\n",
       "  </thead>\n",
       "  <tbody>\n",
       "    <tr>\n",
       "      <th>0</th>\n",
       "      <td>1.0</td>\n",
       "      <td>465</td>\n",
       "      <td>1128</td>\n",
       "    </tr>\n",
       "    <tr>\n",
       "      <th>1</th>\n",
       "      <td>0.0</td>\n",
       "      <td>2319</td>\n",
       "      <td>460</td>\n",
       "    </tr>\n",
       "  </tbody>\n",
       "</table>\n",
       "</div>"
      ],
      "text/plain": [
       "  label_idx_prediction   0.0   1.0\n",
       "0                  1.0   465  1128\n",
       "1                  0.0  2319   460"
      ]
     },
     "execution_count": 128,
     "metadata": {},
     "output_type": "execute_result"
    }
   ],
   "source": [
    "# create confusion matrix\n",
    "confusion_matrix_ols = test_ols.select('label_idx','prediction')\n",
    "# ‘label’ is row and ‘prediction’ is column\n",
    "confusion_matrix_ols.stat.crosstab('label_idx','prediction').toPandas()"
   ]
  },
  {
   "cell_type": "markdown",
   "metadata": {},
   "source": [
    "Out of 4,372 observations it misclassified 925. This means it had 78.8% accuracy."
   ]
  },
  {
   "cell_type": "code",
   "execution_count": 129,
   "metadata": {},
   "outputs": [
    {
     "name": "stdout",
     "output_type": "stream",
     "text": [
      "area under PR on test data for OLS:  0.7890453364897204\n"
     ]
    }
   ],
   "source": [
    "# test error\n",
    "test_error_ols = class_eval.evaluate(test_ols)\n",
    "print(\"area under PR on test data for OLS: \", test_error_ols)"
   ]
  },
  {
   "cell_type": "markdown",
   "metadata": {},
   "source": [
    "Visualization of area under PR:"
   ]
  },
  {
   "cell_type": "code",
   "execution_count": 132,
   "metadata": {},
   "outputs": [
    {
     "data": {
      "image/png": "[encoded data removed]",
      "text/plain": [
       "<Figure size 432x288 with 1 Axes>"
      ]
     },
     "metadata": {
      "needs_background": "light"
     },
     "output_type": "display_data"
    }
   ],
   "source": [
    "logistic_summary = ols_model.summary\n",
    "\n",
    "# Precision-Recall Curve\n",
    "import matplotlib.pyplot as plt\n",
    "import pandas as pd\n",
    "\n",
    "pr = logistic_summary.pr.toPandas()\n",
    "plt.plot(pr['recall'],pr['precision'])\n",
    "plt.ylabel('Precision')\n",
    "plt.xlabel('Recall')\n",
    "plt.show()"
   ]
  },
  {
   "cell_type": "markdown",
   "metadata": {},
   "source": [
    "### 3b) Lasso Regresion"
   ]
  },
  {
   "cell_type": "code",
   "execution_count": 97,
   "metadata": {},
   "outputs": [],
   "source": [
    "# create lasso model\n",
    "lasso_cv = LogisticRegression(featuresCol='count_vec', labelCol='label_idx', elasticNetParam=1)\n",
    "# parameter grid\n",
    "pars111 = ParamGridBuilder().addGrid(lasso_cv.regParam,[0.1,1,5,10]).build()\n",
    "# regression evaluator (CHANGE EVALUATOR?)\n",
    "#reg_eval = RegressionEvaluator().setMetricName('rmse').setLabelCol('label_idx')\n",
    "class_eval =  BinaryClassificationEvaluator().setLabelCol('label_idx').setMetricName('areaUnderPR')\n",
    "# create cross validator\n",
    "cv_lasso_1 = CrossValidator().setEstimator(lasso_cv)\\\n",
    "                             .setEvaluator(class_eval)\\\n",
    "                             .setEstimatorParamMaps(pars111)\\\n",
    "                             .setNumFolds(5)\\\n",
    "                             .setSeed(135)"
   ]
  },
  {
   "cell_type": "code",
   "execution_count": 98,
   "metadata": {},
   "outputs": [
    {
     "data": {
      "text/plain": [
       "0.1"
      ]
     },
     "execution_count": 98,
     "metadata": {},
     "output_type": "execute_result"
    }
   ],
   "source": [
    "# run cross validation\n",
    "cv_lasso_model_1 = cv_lasso_1.fit(train)\n",
    "# get best model\n",
    "best_lasso_1 = cv_lasso_model_1.bestModel\n",
    "# output best parameter\n",
    "best_lasso_1._java_obj.getRegParam()"
   ]
  },
  {
   "cell_type": "markdown",
   "metadata": {},
   "source": [
    "Ran cross validation a second time: "
   ]
  },
  {
   "cell_type": "code",
   "execution_count": 103,
   "metadata": {},
   "outputs": [],
   "source": [
    "# parameter grid\n",
    "pars112 = ParamGridBuilder().addGrid(lasso_cv.regParam,[0.0001,0.001,0.1,0.5]).build()\n",
    "# create cross validator\n",
    "cv_lasso_2 = CrossValidator().setEstimator(lasso_cv)\\\n",
    "                             .setEvaluator(class_eval)\\\n",
    "                             .setEstimatorParamMaps(pars112)\\\n",
    "                             .setNumFolds(5)\\\n",
    "                             .setSeed(135)"
   ]
  },
  {
   "cell_type": "code",
   "execution_count": 104,
   "metadata": {},
   "outputs": [
    {
     "data": {
      "text/plain": [
       "0.001"
      ]
     },
     "execution_count": 104,
     "metadata": {},
     "output_type": "execute_result"
    }
   ],
   "source": [
    "# run cross validation asecond time\n",
    "cv_lasso_model_2 = cv_lasso_2.fit(train)\n",
    "# get best model\n",
    "best_lasso_2 = cv_lasso_model_2.bestModel\n",
    "# output best parameter\n",
    "best_lasso_2._java_obj.getRegParam()"
   ]
  },
  {
   "cell_type": "markdown",
   "metadata": {},
   "source": [
    "The final lasso regression model will use `regParam=0.001`."
   ]
  },
  {
   "cell_type": "code",
   "execution_count": 105,
   "metadata": {},
   "outputs": [],
   "source": [
    "# create the final model\n",
    "lasso = LogisticRegression(featuresCol='count_vec', labelCol='label_idx', elasticNetParam=1, regParam=0.001)\n",
    "# train the model\n",
    "lasso_model = lasso.fit(train)\n",
    "# obtain predictions for test\n",
    "test_lasso = lasso_model.transform(test)"
   ]
  },
  {
   "cell_type": "code",
   "execution_count": 106,
   "metadata": {},
   "outputs": [
    {
     "name": "stdout",
     "output_type": "stream",
     "text": [
      "Lasso intercept:  0.6019121645111131\n"
     ]
    }
   ],
   "source": [
    "# output coefficients\n",
    "print(\"Lasso intercept: \", lasso_model.intercept)\n",
    "#print(\"Lasso coefficients: \", lasso_model.coefficients) # long output\n",
    "# there are a few zeros"
   ]
  },
  {
   "cell_type": "code",
   "execution_count": 108,
   "metadata": {},
   "outputs": [
    {
     "data": {
      "text/html": [
       "<div>\n",
       "<style scoped>\n",
       "    .dataframe tbody tr th:only-of-type {\n",
       "        vertical-align: middle;\n",
       "    }\n",
       "\n",
       "    .dataframe tbody tr th {\n",
       "        vertical-align: top;\n",
       "    }\n",
       "\n",
       "    .dataframe thead th {\n",
       "        text-align: right;\n",
       "    }\n",
       "</style>\n",
       "<table border=\"1\" class=\"dataframe\">\n",
       "  <thead>\n",
       "    <tr style=\"text-align: right;\">\n",
       "      <th></th>\n",
       "      <th>label_idx_prediction</th>\n",
       "      <th>0.0</th>\n",
       "      <th>1.0</th>\n",
       "    </tr>\n",
       "  </thead>\n",
       "  <tbody>\n",
       "    <tr>\n",
       "      <th>0</th>\n",
       "      <td>1.0</td>\n",
       "      <td>469</td>\n",
       "      <td>1124</td>\n",
       "    </tr>\n",
       "    <tr>\n",
       "      <th>1</th>\n",
       "      <td>0.0</td>\n",
       "      <td>2327</td>\n",
       "      <td>452</td>\n",
       "    </tr>\n",
       "  </tbody>\n",
       "</table>\n",
       "</div>"
      ],
      "text/plain": [
       "  label_idx_prediction   0.0   1.0\n",
       "0                  1.0   469  1124\n",
       "1                  0.0  2327   452"
      ]
     },
     "execution_count": 108,
     "metadata": {},
     "output_type": "execute_result"
    }
   ],
   "source": [
    "# create confusion matrix\n",
    "confusion_matrix_lasso = test_lasso.select('label_idx','prediction')\n",
    "# ‘label’ is row and ‘prediction’ is column\n",
    "confusion_matrix_lasso.stat.crosstab('label_idx','prediction').toPandas()"
   ]
  },
  {
   "cell_type": "markdown",
   "metadata": {},
   "source": [
    "Out of 4,372 observations it misclassified 921. This means it had 78.9% accuracy."
   ]
  },
  {
   "cell_type": "code",
   "execution_count": 110,
   "metadata": {},
   "outputs": [
    {
     "name": "stdout",
     "output_type": "stream",
     "text": [
      "area under PR on test data for lasso:  0.7920453750738384\n"
     ]
    }
   ],
   "source": [
    "# test error\n",
    "test_error_lasso = class_eval.evaluate(test_lasso)\n",
    "print(\"area under PR on test data for lasso: \", test_error_lasso)"
   ]
  },
  {
   "cell_type": "markdown",
   "metadata": {},
   "source": [
    "Visualization of area under PR:"
   ]
  },
  {
   "cell_type": "code",
   "execution_count": 135,
   "metadata": {},
   "outputs": [
    {
     "data": {
      "image/png": "[encoded data removed]",
      "text/plain": [
       "<Figure size 432x288 with 1 Axes>"
      ]
     },
     "metadata": {
      "needs_background": "light"
     },
     "output_type": "display_data"
    }
   ],
   "source": [
    "logistic_summary_lasso = lasso_model.summary\n",
    "\n",
    "# Precision-Recall Curve\n",
    "pr2 = logistic_summary_lasso.pr.toPandas()\n",
    "plt.plot(pr2['recall'],pr2['precision'])\n",
    "plt.ylabel('Precision')\n",
    "plt.xlabel('Recall')\n",
    "plt.show()"
   ]
  },
  {
   "cell_type": "markdown",
   "metadata": {},
   "source": [
    "### 3c) Ridge Regression"
   ]
  },
  {
   "cell_type": "code",
   "execution_count": 111,
   "metadata": {},
   "outputs": [],
   "source": [
    "# create ridge model\n",
    "ridge_cv = LogisticRegression(featuresCol='count_vec', labelCol='label_idx', elasticNetParam=0)\n",
    "# parameter grid\n",
    "pars121 = ParamGridBuilder().addGrid(ridge_cv.regParam,[0.1,1,5,10]).build()\n",
    "# create cross validator\n",
    "cv_ridge_1 = CrossValidator().setEstimator(ridge_cv)\\\n",
    "                             .setEvaluator(class_eval)\\\n",
    "                             .setEstimatorParamMaps(pars121)\\\n",
    "                             .setNumFolds(5)\\\n",
    "                             .setSeed(135)"
   ]
  },
  {
   "cell_type": "code",
   "execution_count": 112,
   "metadata": {},
   "outputs": [
    {
     "data": {
      "text/plain": [
       "0.1"
      ]
     },
     "execution_count": 112,
     "metadata": {},
     "output_type": "execute_result"
    }
   ],
   "source": [
    "# run cross validation\n",
    "cv_ridge_model_1 = cv_ridge_1.fit(train)\n",
    "# get best model\n",
    "best_ridge_1 = cv_ridge_model_1.bestModel\n",
    "# output best parameter\n",
    "best_ridge_1._java_obj.getRegParam()"
   ]
  },
  {
   "cell_type": "markdown",
   "metadata": {},
   "source": [
    "Run cross validation a second time:"
   ]
  },
  {
   "cell_type": "code",
   "execution_count": 117,
   "metadata": {},
   "outputs": [],
   "source": [
    "# parameter grid\n",
    "pars122 = ParamGridBuilder().addGrid(ridge_cv.regParam,[0.001,0.01,0.1,0.5]).build()\n",
    "# create cross validator\n",
    "cv_ridge_2 = CrossValidator().setEstimator(ridge_cv)\\\n",
    "                             .setEvaluator(class_eval)\\\n",
    "                             .setEstimatorParamMaps(pars122)\\\n",
    "                             .setNumFolds(5)\\\n",
    "                             .setSeed(135)"
   ]
  },
  {
   "cell_type": "code",
   "execution_count": 118,
   "metadata": {},
   "outputs": [
    {
     "data": {
      "text/plain": [
       "0.1"
      ]
     },
     "execution_count": 118,
     "metadata": {},
     "output_type": "execute_result"
    }
   ],
   "source": [
    "# run cross validation a second time\n",
    "cv_ridge_model_2 = cv_ridge_2.fit(train)\n",
    "# get best model\n",
    "best_ridge_2 = cv_ridge_model_2.bestModel\n",
    "# output best parameter\n",
    "best_ridge_2._java_obj.getRegParam()"
   ]
  },
  {
   "cell_type": "markdown",
   "metadata": {},
   "source": [
    "The final ridge regression model will use `regParam=0.1`."
   ]
  },
  {
   "cell_type": "code",
   "execution_count": 120,
   "metadata": {},
   "outputs": [],
   "source": [
    "# create the final model\n",
    "ridge = LogisticRegression(featuresCol='count_vec', labelCol='label_idx', elasticNetParam=0, regParam=0.1)\n",
    "# train the model\n",
    "ridge_model = ridge.fit(train)\n",
    "# obtain predictions for test\n",
    "test_ridge = ridge_model.transform(test)"
   ]
  },
  {
   "cell_type": "code",
   "execution_count": 122,
   "metadata": {},
   "outputs": [
    {
     "name": "stdout",
     "output_type": "stream",
     "text": [
      "Ridge intercept:  0.16271332697531116\n"
     ]
    }
   ],
   "source": [
    "# output coefficients\n",
    "print(\"Ridge intercept: \", ridge_model.intercept)\n",
    "#print(\"Ridge coefficients: \", ridge_model.coefficients) # long"
   ]
  },
  {
   "cell_type": "code",
   "execution_count": 123,
   "metadata": {},
   "outputs": [
    {
     "data": {
      "text/html": [
       "<div>\n",
       "<style scoped>\n",
       "    .dataframe tbody tr th:only-of-type {\n",
       "        vertical-align: middle;\n",
       "    }\n",
       "\n",
       "    .dataframe tbody tr th {\n",
       "        vertical-align: top;\n",
       "    }\n",
       "\n",
       "    .dataframe thead th {\n",
       "        text-align: right;\n",
       "    }\n",
       "</style>\n",
       "<table border=\"1\" class=\"dataframe\">\n",
       "  <thead>\n",
       "    <tr style=\"text-align: right;\">\n",
       "      <th></th>\n",
       "      <th>label_idx_prediction</th>\n",
       "      <th>0.0</th>\n",
       "      <th>1.0</th>\n",
       "    </tr>\n",
       "  </thead>\n",
       "  <tbody>\n",
       "    <tr>\n",
       "      <th>0</th>\n",
       "      <td>1.0</td>\n",
       "      <td>590</td>\n",
       "      <td>1003</td>\n",
       "    </tr>\n",
       "    <tr>\n",
       "      <th>1</th>\n",
       "      <td>0.0</td>\n",
       "      <td>2479</td>\n",
       "      <td>300</td>\n",
       "    </tr>\n",
       "  </tbody>\n",
       "</table>\n",
       "</div>"
      ],
      "text/plain": [
       "  label_idx_prediction   0.0   1.0\n",
       "0                  1.0   590  1003\n",
       "1                  0.0  2479   300"
      ]
     },
     "execution_count": 123,
     "metadata": {},
     "output_type": "execute_result"
    }
   ],
   "source": [
    "# create confusion matrix\n",
    "confusion_matrix_ridge = test_ridge.select('label_idx','prediction')\n",
    "# ‘label’ is row and ‘prediction’ is column\n",
    "confusion_matrix_ridge.stat.crosstab('label_idx','prediction').toPandas()"
   ]
  },
  {
   "cell_type": "markdown",
   "metadata": {},
   "source": [
    "Out of 4,372 observations it misclassified 890. This means it had 79.6% accuracy."
   ]
  },
  {
   "cell_type": "code",
   "execution_count": 125,
   "metadata": {},
   "outputs": [
    {
     "name": "stdout",
     "output_type": "stream",
     "text": [
      "area under PR on test data for ridge:  0.7936207689440483\n"
     ]
    }
   ],
   "source": [
    "# test error\n",
    "test_error_ridge = class_eval.evaluate(test_ridge)\n",
    "print(\"area under PR on test data for ridge: \", test_error_ridge)"
   ]
  },
  {
   "cell_type": "markdown",
   "metadata": {},
   "source": [
    "Visualization of area under PR:"
   ]
  },
  {
   "cell_type": "code",
   "execution_count": 136,
   "metadata": {},
   "outputs": [
    {
     "data": {
      "image/png": "[encoded data removed]",
      "text/plain": [
       "<Figure size 432x288 with 1 Axes>"
      ]
     },
     "metadata": {
      "needs_background": "light"
     },
     "output_type": "display_data"
    }
   ],
   "source": [
    "logistic_summary_ridge = ridge_model.summary\n",
    "\n",
    "# Precision-Recall Curve\n",
    "pr3 = logistic_summary_ridge.pr.toPandas()\n",
    "plt.plot(pr3['recall'],pr3['precision'])\n",
    "plt.ylabel('Precision')\n",
    "plt.xlabel('Recall')\n",
    "plt.show()"
   ]
  },
  {
   "cell_type": "markdown",
   "metadata": {},
   "source": [
    "#### We can see that the `ridge regression model` performs slightly better than the lasso and OLS models."
   ]
  },
  {
   "cell_type": "code",
   "execution_count": null,
   "metadata": {},
   "outputs": [],
   "source": []
  },
  {
   "cell_type": "code",
   "execution_count": null,
   "metadata": {},
   "outputs": [],
   "source": []
  }
 ],
 "metadata": {
  "kernelspec": {
   "display_name": "Python 3",
   "language": "python",
   "name": "python3"
  },
  "language_info": {
   "codemirror_mode": {
    "name": "ipython",
    "version": 3
   },
   "file_extension": ".py",
   "mimetype": "text/x-python",
   "name": "python",
   "nbconvert_exporter": "python",
   "pygments_lexer": "ipython3",
   "version": "3.7.1"
  }
 },
 "nbformat": 4,
 "nbformat_minor": 4
}
