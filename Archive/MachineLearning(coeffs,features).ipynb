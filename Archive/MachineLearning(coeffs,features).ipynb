{
 "cells": [
  {
   "cell_type": "markdown",
   "metadata": {},
   "source": [
    "# Machine Learning"
   ]
  },
  {
   "cell_type": "code",
   "execution_count": 167,
   "metadata": {},
   "outputs": [],
   "source": [
    "# global imports\n",
    "import pandas as pd\n",
    "import matplotlib.pyplot as plt\n",
    "import numpy as np\n",
    "# pyspark\n",
    "import pyspark\n",
    "from pyspark.sql.session import SparkSession\n",
    "import pyspark.sql.functions as W\n",
    "from pyspark.sql import Window\n",
    "# machine learning models\n",
    "from pyspark.ml.classification import RandomForestClassifier, GBTClassifier\n",
    "from pyspark.ml.classification import NaiveBayes, LinearSVC, LogisticRegression\n",
    "# evaluator\n",
    "from pyspark.ml.evaluation import BinaryClassificationEvaluator\n",
    "# cross validation\n",
    "from pyspark.ml.tuning import ParamGridBuilder, CrossValidator\n",
    "\n",
    "\n",
    "spark = SparkSession.builder.getOrCreate()"
   ]
  },
  {
   "cell_type": "code",
   "execution_count": 127,
   "metadata": {},
   "outputs": [],
   "source": [
    "# import vocabulary\n",
    "vocab = dfs[3]"
   ]
  },
  {
   "cell_type": "markdown",
   "metadata": {},
   "source": [
    "# Import Data"
   ]
  },
  {
   "cell_type": "code",
   "execution_count": 21,
   "metadata": {},
   "outputs": [],
   "source": [
    "# import data\n",
    "%store -r dfs"
   ]
  },
  {
   "cell_type": "code",
   "execution_count": 22,
   "metadata": {},
   "outputs": [
    {
     "name": "stdout",
     "output_type": "stream",
     "text": [
      "+--------------------+---------+\n",
      "|           count_vec|label_idx|\n",
      "+--------------------+---------+\n",
      "|(349,[0,2,16,22,4...|      0.0|\n",
      "|(349,[5,7,8,158,1...|      1.0|\n",
      "+--------------------+---------+\n",
      "only showing top 2 rows\n",
      "\n"
     ]
    }
   ],
   "source": [
    "train = spark.createDataFrame(dfs[0])\n",
    "train.show(2)"
   ]
  },
  {
   "cell_type": "code",
   "execution_count": 23,
   "metadata": {},
   "outputs": [
    {
     "name": "stdout",
     "output_type": "stream",
     "text": [
      "+--------------------+---------+\n",
      "|           count_vec|label_idx|\n",
      "+--------------------+---------+\n",
      "|(349,[2,58,118,12...|      0.0|\n",
      "|(349,[0,4,135,186...|      1.0|\n",
      "+--------------------+---------+\n",
      "only showing top 2 rows\n",
      "\n"
     ]
    }
   ],
   "source": [
    "test = spark.createDataFrame(dfs[1])\n",
    "test.show(2)"
   ]
  },
  {
   "cell_type": "markdown",
   "metadata": {},
   "source": [
    "# Build Classification Models"
   ]
  },
  {
   "cell_type": "code",
   "execution_count": 24,
   "metadata": {},
   "outputs": [],
   "source": [
    "# classification evaluator\n",
    "class_eval =  BinaryClassificationEvaluator().setLabelCol('label_idx').setMetricName('areaUnderPR')"
   ]
  },
  {
   "cell_type": "markdown",
   "metadata": {},
   "source": [
    "## 1) Random Forest"
   ]
  },
  {
   "cell_type": "markdown",
   "metadata": {},
   "source": [
    "***Cross Validation to Determine`numTrees`***"
   ]
  },
  {
   "cell_type": "code",
   "execution_count": 25,
   "metadata": {},
   "outputs": [],
   "source": [
    "# create random forest model\n",
    "rf_cv = RandomForestClassifier(featuresCol='count_vec',labelCol='label_idx',featureSubsetStrategy='sqrt')\\\n",
    "                              .setSeed(135)\n",
    "# parameter grid\n",
    "pars21 = ParamGridBuilder().addGrid(rf_cv.numTrees,[10,100,500,1000]).build()\n",
    "\n",
    "# classification evaluator (done at beginning)\n",
    "\n",
    "# create cross validator\n",
    "cv_rf = CrossValidator().setEstimator(rf_cv)\\\n",
    "                        .setEvaluator(class_eval)\\\n",
    "                        .setEstimatorParamMaps(pars21)\\\n",
    "                        .setNumFolds(5)\\\n",
    "                        .setSeed(135)"
   ]
  },
  {
   "cell_type": "code",
   "execution_count": null,
   "metadata": {},
   "outputs": [],
   "source": [
    "# CODE FOR RUNNING THE CROSS VALIDATION\n",
    "# run cross validation\n",
    "cv_rf_model = cv_rf.fit(train)\n",
    "# get best model\n",
    "best_rf = cv_rf_model.bestModel\n",
    "# output best parameter\n",
    "best_rf._java_obj.getNumTrees()"
   ]
  },
  {
   "cell_type": "markdown",
   "metadata": {},
   "source": [
    "***Test the Model***"
   ]
  },
  {
   "cell_type": "code",
   "execution_count": 26,
   "metadata": {},
   "outputs": [],
   "source": [
    "# create the final model\n",
    "rf = RandomForestClassifier(featuresCol='count_vec',labelCol='label_idx',featureSubsetStrategy='sqrt',numTrees=1000)\\\n",
    "                            .setSeed(135)\n",
    "# train the model\n",
    "rf_model = rf.fit(train)\n",
    "# obtain predictions for test\n",
    "test_rf = rf_model.transform(test)"
   ]
  },
  {
   "cell_type": "code",
   "execution_count": 27,
   "metadata": {},
   "outputs": [
    {
     "data": {
      "text/html": [
       "<div>\n",
       "<style scoped>\n",
       "    .dataframe tbody tr th:only-of-type {\n",
       "        vertical-align: middle;\n",
       "    }\n",
       "\n",
       "    .dataframe tbody tr th {\n",
       "        vertical-align: top;\n",
       "    }\n",
       "\n",
       "    .dataframe thead th {\n",
       "        text-align: right;\n",
       "    }\n",
       "</style>\n",
       "<table border=\"1\" class=\"dataframe\">\n",
       "  <thead>\n",
       "    <tr style=\"text-align: right;\">\n",
       "      <th></th>\n",
       "      <th>label_idx_prediction</th>\n",
       "      <th>0.0</th>\n",
       "      <th>1.0</th>\n",
       "    </tr>\n",
       "  </thead>\n",
       "  <tbody>\n",
       "    <tr>\n",
       "      <th>0</th>\n",
       "      <td>1.0</td>\n",
       "      <td>1378</td>\n",
       "      <td>215</td>\n",
       "    </tr>\n",
       "    <tr>\n",
       "      <th>1</th>\n",
       "      <td>0.0</td>\n",
       "      <td>2755</td>\n",
       "      <td>24</td>\n",
       "    </tr>\n",
       "  </tbody>\n",
       "</table>\n",
       "</div>"
      ],
      "text/plain": [
       "  label_idx_prediction   0.0  1.0\n",
       "0                  1.0  1378  215\n",
       "1                  0.0  2755   24"
      ]
     },
     "execution_count": 27,
     "metadata": {},
     "output_type": "execute_result"
    }
   ],
   "source": [
    "# create confusion matrix\n",
    "confusion_matrix_rf = test_rf.select('label_idx','prediction')\n",
    "# ‘label’ is row and ‘prediction’ is column\n",
    "confusion_matrix_rf.stat.crosstab('label_idx','prediction').toPandas()"
   ]
  },
  {
   "cell_type": "markdown",
   "metadata": {},
   "source": [
    "Out of 4,372 observations, it misclassified 1,394. This means it had 68.12% accuracy."
   ]
  },
  {
   "cell_type": "code",
   "execution_count": 28,
   "metadata": {},
   "outputs": [
    {
     "name": "stdout",
     "output_type": "stream",
     "text": [
      "Area under PR on test data for Random Forest model:  0.7086639477281276\n"
     ]
    }
   ],
   "source": [
    "# obtain test area under PR\n",
    "test_PR_rf = class_eval.evaluate(test_rf)\n",
    "print(\"Area under PR on test data for Random Forest model: \", test_PR_rf)"
   ]
  },
  {
   "cell_type": "code",
   "execution_count": 122,
   "metadata": {},
   "outputs": [],
   "source": [
    "# feature importances\n",
    "rf_feature_import = rf_model.featureImportances\n",
    "\n",
    "# list of features is long:\n",
    "#rf_feature_import"
   ]
  },
  {
   "cell_type": "code",
   "execution_count": 126,
   "metadata": {},
   "outputs": [
    {
     "data": {
      "text/plain": [
       "[('thanks', 0.09516298188904039),\n",
       " ('thank', 0.09363528521281203),\n",
       " ('hour', 0.07113219178268267),\n",
       " ('jetblue', 0.0705789887009956),\n",
       " ('usairways', 0.04881439531037404),\n",
       " ('http', 0.047987609828285385),\n",
       " ('hold', 0.04262203143199392),\n",
       " ('co', 0.038174776438984766),\n",
       " ('cancelled', 0.0326927201068585),\n",
       " ('southwestair', 0.03182065449687372)]"
      ]
     },
     "execution_count": 126,
     "metadata": {},
     "output_type": "execute_result"
    }
   ],
   "source": [
    "# extract top ten features from RF model\n",
    "feature_importances = rf_model.featureImportances\n",
    "feature_imp_array = feature_importances.toArray()\n",
    "\n",
    "feat_imp_list = []\n",
    "for feature, importance in zip(vocab, feature_imp_array):\n",
    "    feat_imp_list.append((feature, importance))\n",
    "\n",
    "feat_imp_list = sorted(feat_imp_list, key=(lambda x: x[1]), reverse=True)\n",
    "\n",
    "top_features = feat_imp_list[0:10]\n",
    "top_features"
   ]
  },
  {
   "cell_type": "code",
   "execution_count": 29,
   "metadata": {},
   "outputs": [],
   "source": [
    "# add predictions to ml_results\n",
    "ml_results = test_rf.select('count_vec','label_idx','prediction')\n",
    "ml_results = ml_results.withColumnRenamed('prediction','rf_pred')\n",
    "ml_results = ml_results.withColumn('id', W.row_number().over(Window.orderBy(W.monotonically_increasing_id())))"
   ]
  },
  {
   "cell_type": "markdown",
   "metadata": {},
   "source": [
    "## 2) Gradient Boosted Tree"
   ]
  },
  {
   "cell_type": "markdown",
   "metadata": {},
   "source": [
    "***Cross Validation to Determine `stepSize` and `maxIter`***"
   ]
  },
  {
   "cell_type": "code",
   "execution_count": 128,
   "metadata": {},
   "outputs": [],
   "source": [
    "# create gbt model\n",
    "gbt_cv = GBTClassifier(featuresCol='count_vec', labelCol='label_idx').setSeed(135)\n",
    "# parameter grid\n",
    "pars23 = ParamGridBuilder().addGrid(gbt_cv.stepSize,[0.1,0.5,0.9])\\\n",
    "                           .addGrid(gbt_cv.maxIter,[50,100,200])\\\n",
    "                           .build()\n",
    "# create cross validator\n",
    "cv_gbt = CrossValidator().setEstimator(gbt_cv)\\\n",
    "                         .setEvaluator(class_eval)\\\n",
    "                         .setEstimatorParamMaps(pars23)\\\n",
    "                         .setNumFolds(5)\\\n",
    "                         .setSeed(135)"
   ]
  },
  {
   "cell_type": "code",
   "execution_count": null,
   "metadata": {},
   "outputs": [],
   "source": [
    "# CROSS VALIDATION\n",
    "\n",
    "# run cross validation\n",
    "cv_gbt_model = cv_gbt.fit(train)\n",
    "# get best model\n",
    "best_gbt = cv_gbt_model.bestModel\n",
    "# output best parameters\n",
    "print('Best Step Size: ',best_gbt._java_obj.getStepSize())\n",
    "print('Best Number of Trees: ',best_gbt._java_obj.getMaxIter())"
   ]
  },
  {
   "cell_type": "markdown",
   "metadata": {},
   "source": [
    "***Test the Model***"
   ]
  },
  {
   "cell_type": "code",
   "execution_count": 129,
   "metadata": {},
   "outputs": [],
   "source": [
    "# create the final model\n",
    "gbt = GBTClassifier(featuresCol='count_vec', labelCol='label_idx', stepSize=0.1,maxIter=200).setSeed(135)\n",
    "# train the model\n",
    "gbt_model = gbt.fit(train)\n",
    "# obtain predictions for test\n",
    "test_gbt = gbt_model.transform(test)"
   ]
  },
  {
   "cell_type": "code",
   "execution_count": 130,
   "metadata": {},
   "outputs": [
    {
     "data": {
      "text/html": [
       "<div>\n",
       "<style scoped>\n",
       "    .dataframe tbody tr th:only-of-type {\n",
       "        vertical-align: middle;\n",
       "    }\n",
       "\n",
       "    .dataframe tbody tr th {\n",
       "        vertical-align: top;\n",
       "    }\n",
       "\n",
       "    .dataframe thead th {\n",
       "        text-align: right;\n",
       "    }\n",
       "</style>\n",
       "<table border=\"1\" class=\"dataframe\">\n",
       "  <thead>\n",
       "    <tr style=\"text-align: right;\">\n",
       "      <th></th>\n",
       "      <th>label_idx_prediction</th>\n",
       "      <th>0.0</th>\n",
       "      <th>1.0</th>\n",
       "    </tr>\n",
       "  </thead>\n",
       "  <tbody>\n",
       "    <tr>\n",
       "      <th>0</th>\n",
       "      <td>1.0</td>\n",
       "      <td>591</td>\n",
       "      <td>1002</td>\n",
       "    </tr>\n",
       "    <tr>\n",
       "      <th>1</th>\n",
       "      <td>0.0</td>\n",
       "      <td>2413</td>\n",
       "      <td>366</td>\n",
       "    </tr>\n",
       "  </tbody>\n",
       "</table>\n",
       "</div>"
      ],
      "text/plain": [
       "  label_idx_prediction   0.0   1.0\n",
       "0                  1.0   591  1002\n",
       "1                  0.0  2413   366"
      ]
     },
     "execution_count": 130,
     "metadata": {},
     "output_type": "execute_result"
    }
   ],
   "source": [
    "# create confusion matrix\n",
    "confusion_matrix_gbt = test_gbt.select('label_idx','prediction')\n",
    "# ‘label’ is row and ‘prediction’ is column\n",
    "confusion_matrix_gbt.stat.crosstab('label_idx','prediction').toPandas()"
   ]
  },
  {
   "cell_type": "markdown",
   "metadata": {},
   "source": [
    "Out of 4,372 observations it misclassified 947. This means it had 78.34% accuracy."
   ]
  },
  {
   "cell_type": "code",
   "execution_count": 131,
   "metadata": {},
   "outputs": [
    {
     "name": "stdout",
     "output_type": "stream",
     "text": [
      "Area under PR on test data for GBT model:  0.7746873601048427\n"
     ]
    }
   ],
   "source": [
    "# obtain test area under PR\n",
    "test_PR_gbt = class_eval.evaluate(test_gbt)\n",
    "print(\"Area under PR on test data for GBT model: \", test_PR_gbt)"
   ]
  },
  {
   "cell_type": "code",
   "execution_count": 134,
   "metadata": {},
   "outputs": [],
   "source": [
    "# feature importances\n",
    "gbt_feature_import = gbt_model.featureImportances\n",
    "\n",
    "# list of features is long:\n",
    "#gbt_feature_import"
   ]
  },
  {
   "cell_type": "code",
   "execution_count": 135,
   "metadata": {},
   "outputs": [
    {
     "data": {
      "text/plain": [
       "[('delayed', 0.014346965519270687),\n",
       " ('flight', 0.013298350370312663),\n",
       " ('hold', 0.01257093510332324),\n",
       " ('southwestair', 0.012498974240580543),\n",
       " ('bag', 0.012413646685172239),\n",
       " ('cancelled', 0.012026610604519303),\n",
       " ('co', 0.011972898995808627),\n",
       " ('worst', 0.01179490718445983),\n",
       " ('usairways', 0.011262331784560408),\n",
       " ('thanks', 0.01074612726188579)]"
      ]
     },
     "execution_count": 135,
     "metadata": {},
     "output_type": "execute_result"
    }
   ],
   "source": [
    "# extract top ten features from GBT model\n",
    "feature_importancesGBT = gbt_model.featureImportances\n",
    "feature_imp_arrayGBT = feature_importancesGBT.toArray()\n",
    "\n",
    "feat_imp_listGBT = []\n",
    "for feature, importance in zip(vocab, feature_imp_arrayGBT):\n",
    "    feat_imp_listGBT.append((feature, importance))\n",
    "\n",
    "feat_imp_listGBT = sorted(feat_imp_listGBT, key=(lambda x: x[1]), reverse=True)\n",
    "\n",
    "top_featuresGBT = feat_imp_listGBT[0:10]\n",
    "top_featuresGBT"
   ]
  },
  {
   "cell_type": "code",
   "execution_count": 132,
   "metadata": {},
   "outputs": [],
   "source": [
    "# add predictions to ml_results\n",
    "add_col = test_gbt.select('prediction')\n",
    "add_col = add_col.withColumn('id2', W.row_number().over(Window.orderBy(W.monotonically_increasing_id())))\n",
    "ml_results = ml_results.join(add_col,(ml_results.id==add_col.id2))\n",
    "ml_results = ml_results.drop('id2')\n",
    "ml_results = ml_results.withColumnRenamed('prediction','gbt_pred')"
   ]
  },
  {
   "cell_type": "markdown",
   "metadata": {},
   "source": [
    "## 3) Naive Bayes"
   ]
  },
  {
   "cell_type": "markdown",
   "metadata": {},
   "source": [
    "***Cross Validation to Determine `smoothing`***"
   ]
  },
  {
   "cell_type": "code",
   "execution_count": 136,
   "metadata": {},
   "outputs": [],
   "source": [
    "# train a Naive Bayes model\n",
    "nb = NaiveBayes(labelCol=\"label_idx\", featuresCol=\"count_vec\")\n",
    "\n",
    "# parameter grid\n",
    "parsnb = ParamGridBuilder().addGrid(nb.smoothing, [0.0, 0.2, 0.4, 0.6, 0.8, 1.0]).build()\n",
    "\n",
    "# create cross validator\n",
    "cv_nb = CrossValidator().setEstimator(nb)\\\n",
    "                         .setEvaluator(class_eval)\\\n",
    "                         .setEstimatorParamMaps(parsnb)\\\n",
    "                         .setNumFolds(5)\\\n",
    "                         .setSeed(135)"
   ]
  },
  {
   "cell_type": "code",
   "execution_count": 137,
   "metadata": {},
   "outputs": [],
   "source": [
    "# run cross validation\n",
    "cv_nb_model = cv_nb.fit(train)\n",
    "# get best model\n",
    "best_nb = cv_nb_model.bestModel"
   ]
  },
  {
   "cell_type": "markdown",
   "metadata": {},
   "source": [
    "***Test the Model***"
   ]
  },
  {
   "cell_type": "code",
   "execution_count": 138,
   "metadata": {},
   "outputs": [],
   "source": [
    "test_nb = best_nb.transform(test)"
   ]
  },
  {
   "cell_type": "code",
   "execution_count": 139,
   "metadata": {},
   "outputs": [
    {
     "data": {
      "text/html": [
       "<div>\n",
       "<style scoped>\n",
       "    .dataframe tbody tr th:only-of-type {\n",
       "        vertical-align: middle;\n",
       "    }\n",
       "\n",
       "    .dataframe tbody tr th {\n",
       "        vertical-align: top;\n",
       "    }\n",
       "\n",
       "    .dataframe thead th {\n",
       "        text-align: right;\n",
       "    }\n",
       "</style>\n",
       "<table border=\"1\" class=\"dataframe\">\n",
       "  <thead>\n",
       "    <tr style=\"text-align: right;\">\n",
       "      <th></th>\n",
       "      <th>label_idx_prediction</th>\n",
       "      <th>0.0</th>\n",
       "      <th>1.0</th>\n",
       "    </tr>\n",
       "  </thead>\n",
       "  <tbody>\n",
       "    <tr>\n",
       "      <th>0</th>\n",
       "      <td>1.0</td>\n",
       "      <td>522</td>\n",
       "      <td>1071</td>\n",
       "    </tr>\n",
       "    <tr>\n",
       "      <th>1</th>\n",
       "      <td>0.0</td>\n",
       "      <td>2328</td>\n",
       "      <td>451</td>\n",
       "    </tr>\n",
       "  </tbody>\n",
       "</table>\n",
       "</div>"
      ],
      "text/plain": [
       "  label_idx_prediction   0.0   1.0\n",
       "0                  1.0   522  1071\n",
       "1                  0.0  2328   451"
      ]
     },
     "execution_count": 139,
     "metadata": {},
     "output_type": "execute_result"
    }
   ],
   "source": [
    "# create confusion matrix\n",
    "confusion_matrix_nb = test_nb.select('label_idx','prediction')\n",
    "# ‘label’ is row and ‘prediction’ is column\n",
    "confusion_matrix_nb.stat.crosstab('label_idx','prediction').toPandas()"
   ]
  },
  {
   "cell_type": "markdown",
   "metadata": {},
   "source": [
    "Out of 4,372 observations it misclassified 973. This means it had 77.74% accuracy which is very similar to GBT."
   ]
  },
  {
   "cell_type": "code",
   "execution_count": 140,
   "metadata": {},
   "outputs": [
    {
     "name": "stdout",
     "output_type": "stream",
     "text": [
      "Area under PR on test data for Naive Bayes model:  0.5847643457419713\n"
     ]
    }
   ],
   "source": [
    "# obtain test area under PR\n",
    "test_PR_nb = class_eval.evaluate(test_nb)\n",
    "print(\"Area under PR on test data for Naive Bayes model: \", test_PR_nb)"
   ]
  },
  {
   "cell_type": "code",
   "execution_count": 141,
   "metadata": {},
   "outputs": [],
   "source": [
    "# add predictions to ml_results\n",
    "add_col = test_nb.select('prediction')\n",
    "add_col = add_col.withColumn('id2', W.row_number().over(Window.orderBy(W.monotonically_increasing_id())))\n",
    "ml_results = ml_results.join(add_col,(ml_results.id==add_col.id2))\n",
    "ml_results = ml_results.drop('id2')\n",
    "ml_results = ml_results.withColumnRenamed('prediction','nb_pred')"
   ]
  },
  {
   "cell_type": "markdown",
   "metadata": {},
   "source": [
    "## 4) Logistic Regression"
   ]
  },
  {
   "cell_type": "markdown",
   "metadata": {},
   "source": [
    "### 4a) OLS"
   ]
  },
  {
   "cell_type": "markdown",
   "metadata": {},
   "source": [
    "***Test the Model***"
   ]
  },
  {
   "cell_type": "code",
   "execution_count": 30,
   "metadata": {},
   "outputs": [],
   "source": [
    "# create the final model\n",
    "ols = LogisticRegression(featuresCol='count_vec', labelCol='label_idx', elasticNetParam=1, regParam=0.0)\n",
    "# train the model\n",
    "ols_model = ols.fit(train)\n",
    "# obtain predictions for test\n",
    "test_ols = ols_model.transform(test)"
   ]
  },
  {
   "cell_type": "code",
   "execution_count": 31,
   "metadata": {},
   "outputs": [
    {
     "data": {
      "text/html": [
       "<div>\n",
       "<style scoped>\n",
       "    .dataframe tbody tr th:only-of-type {\n",
       "        vertical-align: middle;\n",
       "    }\n",
       "\n",
       "    .dataframe tbody tr th {\n",
       "        vertical-align: top;\n",
       "    }\n",
       "\n",
       "    .dataframe thead th {\n",
       "        text-align: right;\n",
       "    }\n",
       "</style>\n",
       "<table border=\"1\" class=\"dataframe\">\n",
       "  <thead>\n",
       "    <tr style=\"text-align: right;\">\n",
       "      <th></th>\n",
       "      <th>label_idx_prediction</th>\n",
       "      <th>0.0</th>\n",
       "      <th>1.0</th>\n",
       "    </tr>\n",
       "  </thead>\n",
       "  <tbody>\n",
       "    <tr>\n",
       "      <th>0</th>\n",
       "      <td>1.0</td>\n",
       "      <td>465</td>\n",
       "      <td>1128</td>\n",
       "    </tr>\n",
       "    <tr>\n",
       "      <th>1</th>\n",
       "      <td>0.0</td>\n",
       "      <td>2319</td>\n",
       "      <td>460</td>\n",
       "    </tr>\n",
       "  </tbody>\n",
       "</table>\n",
       "</div>"
      ],
      "text/plain": [
       "  label_idx_prediction   0.0   1.0\n",
       "0                  1.0   465  1128\n",
       "1                  0.0  2319   460"
      ]
     },
     "execution_count": 31,
     "metadata": {},
     "output_type": "execute_result"
    }
   ],
   "source": [
    "# create confusion matrix\n",
    "confusion_matrix_ols = test_ols.select('label_idx','prediction')\n",
    "# ‘label’ is row and ‘prediction’ is column\n",
    "confusion_matrix_ols.stat.crosstab('label_idx','prediction').toPandas()"
   ]
  },
  {
   "cell_type": "markdown",
   "metadata": {},
   "source": [
    "Out of 4,372 observations it misclassified 925. This means it had 78.84% accuracy."
   ]
  },
  {
   "cell_type": "code",
   "execution_count": 32,
   "metadata": {},
   "outputs": [
    {
     "name": "stdout",
     "output_type": "stream",
     "text": [
      "area under PR on test data for OLS:  0.7890453364897201\n"
     ]
    }
   ],
   "source": [
    "# test error\n",
    "test_error_ols = class_eval.evaluate(test_ols)\n",
    "print(\"area under PR on test data for OLS: \", test_error_ols)"
   ]
  },
  {
   "cell_type": "code",
   "execution_count": 147,
   "metadata": {},
   "outputs": [
    {
     "name": "stdout",
     "output_type": "stream",
     "text": [
      "OLS intercept:  0.7058411635772982\n",
      "OLS coefficients:  [-0.06428451 -0.44884909 -0.72504598 -0.46842691  0.30836957  0.30167084\n",
      " -0.25814627 -7.11608627  7.69169764 -1.75987777]\n"
     ]
    }
   ],
   "source": [
    "# output coefficients\n",
    "print(\"OLS intercept: \", ols_model.intercept)\n",
    "coefficients_ols = ols_model.coefficients[0:10] # first ten coefficients only\n",
    "print(\"OLS coefficients: \", coefficients_ols)"
   ]
  },
  {
   "cell_type": "code",
   "execution_count": 168,
   "metadata": {},
   "outputs": [
    {
     "data": {
      "image/png": "[encoded data removed]",
      "text/plain": [
       "<Figure size 432x288 with 1 Axes>"
      ]
     },
     "metadata": {
      "needs_background": "light"
     },
     "output_type": "display_data"
    }
   ],
   "source": [
    "# plot coefficients\n",
    "beta = np.sort(ols_model.coefficients)\n",
    "\n",
    "plt.plot(beta)\n",
    "plt.ylabel('Beta Coefficients')\n",
    "plt.show()"
   ]
  },
  {
   "cell_type": "markdown",
   "metadata": {},
   "source": [
    "Visualization of area under PR:"
   ]
  },
  {
   "cell_type": "code",
   "execution_count": 33,
   "metadata": {},
   "outputs": [
    {
     "data": {
      "image/png": "[encoded data removed]",
      "text/plain": [
       "<Figure size 432x288 with 1 Axes>"
      ]
     },
     "metadata": {
      "needs_background": "light"
     },
     "output_type": "display_data"
    }
   ],
   "source": [
    "logistic_summary = ols_model.summary\n",
    "\n",
    "# visualize area under the precision-recall curve\n",
    "pr = logistic_summary.pr.toPandas()\n",
    "plt.plot(pr['recall'],pr['precision'])\n",
    "plt.ylabel('Precision')\n",
    "plt.xlabel('Recall')\n",
    "plt.show()"
   ]
  },
  {
   "cell_type": "code",
   "execution_count": 34,
   "metadata": {},
   "outputs": [],
   "source": [
    "# add predictions to ml_results\n",
    "add_col = test_ols.select('prediction')\n",
    "add_col = add_col.withColumn('id2', W.row_number().over(Window.orderBy(W.monotonically_increasing_id())))\n",
    "ml_results = ml_results.join(add_col,(ml_results.id==add_col.id2))\n",
    "ml_results = ml_results.drop('id2')\n",
    "ml_results = ml_results.withColumnRenamed('prediction','ols_pred')"
   ]
  },
  {
   "cell_type": "markdown",
   "metadata": {},
   "source": [
    "### 4b) Lasso Regression"
   ]
  },
  {
   "cell_type": "markdown",
   "metadata": {},
   "source": [
    "***Cross Validation to Determine `regParam`***"
   ]
  },
  {
   "cell_type": "code",
   "execution_count": 35,
   "metadata": {},
   "outputs": [],
   "source": [
    "# create lasso model\n",
    "lasso_cv = LogisticRegression(featuresCol='count_vec', labelCol='label_idx', elasticNetParam=1)\n",
    "# parameter grid\n",
    "pars111 = ParamGridBuilder().addGrid(lasso_cv.regParam,[0.1,1,5,10]).build()\n",
    "# regression evaluator (CHANGE EVALUATOR?)\n",
    "#reg_eval = RegressionEvaluator().setMetricName('rmse').setLabelCol('label_idx')\n",
    "class_eval =  BinaryClassificationEvaluator().setLabelCol('label_idx').setMetricName('areaUnderPR')\n",
    "# create cross validator\n",
    "cv_lasso_1 = CrossValidator().setEstimator(lasso_cv)\\\n",
    "                             .setEvaluator(class_eval)\\\n",
    "                             .setEstimatorParamMaps(pars111)\\\n",
    "                             .setNumFolds(5)\\\n",
    "                             .setSeed(135)"
   ]
  },
  {
   "cell_type": "code",
   "execution_count": null,
   "metadata": {},
   "outputs": [],
   "source": [
    "# run cross validation\n",
    "cv_lasso_model_1 = cv_lasso_1.fit(train)\n",
    "# get best model\n",
    "best_lasso_1 = cv_lasso_model_1.bestModel\n",
    "# output best parameter\n",
    "best_lasso_1._java_obj.getRegParam()"
   ]
  },
  {
   "cell_type": "markdown",
   "metadata": {},
   "source": [
    "Ran cross validation a second time:"
   ]
  },
  {
   "cell_type": "code",
   "execution_count": 36,
   "metadata": {},
   "outputs": [],
   "source": [
    "# parameter grid\n",
    "pars112 = ParamGridBuilder().addGrid(lasso_cv.regParam,[0.0001,0.001,0.1,0.5]).build()\n",
    "# create cross validator\n",
    "cv_lasso_2 = CrossValidator().setEstimator(lasso_cv)\\\n",
    "                             .setEvaluator(class_eval)\\\n",
    "                             .setEstimatorParamMaps(pars112)\\\n",
    "                             .setNumFolds(5)\\\n",
    "                             .setSeed(135)"
   ]
  },
  {
   "cell_type": "code",
   "execution_count": null,
   "metadata": {},
   "outputs": [],
   "source": [
    "# run cross validation asecond time\n",
    "cv_lasso_model_2 = cv_lasso_2.fit(train)\n",
    "# get best model\n",
    "best_lasso_2 = cv_lasso_model_2.bestModel\n",
    "# output best parameter\n",
    "best_lasso_2._java_obj.getRegParam()"
   ]
  },
  {
   "cell_type": "markdown",
   "metadata": {},
   "source": [
    "The final lasso regression model will use `regParam=0.001`."
   ]
  },
  {
   "cell_type": "markdown",
   "metadata": {},
   "source": [
    "***Test the Model***"
   ]
  },
  {
   "cell_type": "code",
   "execution_count": 37,
   "metadata": {},
   "outputs": [],
   "source": [
    "# create the final model\n",
    "lasso = LogisticRegression(featuresCol='count_vec', labelCol='label_idx', elasticNetParam=1, regParam=0.001)\n",
    "# train the model\n",
    "lasso_model = lasso.fit(train)\n",
    "# obtain predictions for test\n",
    "test_lasso = lasso_model.transform(test)"
   ]
  },
  {
   "cell_type": "code",
   "execution_count": 38,
   "metadata": {},
   "outputs": [
    {
     "data": {
      "text/html": [
       "<div>\n",
       "<style scoped>\n",
       "    .dataframe tbody tr th:only-of-type {\n",
       "        vertical-align: middle;\n",
       "    }\n",
       "\n",
       "    .dataframe tbody tr th {\n",
       "        vertical-align: top;\n",
       "    }\n",
       "\n",
       "    .dataframe thead th {\n",
       "        text-align: right;\n",
       "    }\n",
       "</style>\n",
       "<table border=\"1\" class=\"dataframe\">\n",
       "  <thead>\n",
       "    <tr style=\"text-align: right;\">\n",
       "      <th></th>\n",
       "      <th>label_idx_prediction</th>\n",
       "      <th>0.0</th>\n",
       "      <th>1.0</th>\n",
       "    </tr>\n",
       "  </thead>\n",
       "  <tbody>\n",
       "    <tr>\n",
       "      <th>0</th>\n",
       "      <td>1.0</td>\n",
       "      <td>469</td>\n",
       "      <td>1124</td>\n",
       "    </tr>\n",
       "    <tr>\n",
       "      <th>1</th>\n",
       "      <td>0.0</td>\n",
       "      <td>2327</td>\n",
       "      <td>452</td>\n",
       "    </tr>\n",
       "  </tbody>\n",
       "</table>\n",
       "</div>"
      ],
      "text/plain": [
       "  label_idx_prediction   0.0   1.0\n",
       "0                  1.0   469  1124\n",
       "1                  0.0  2327   452"
      ]
     },
     "execution_count": 38,
     "metadata": {},
     "output_type": "execute_result"
    }
   ],
   "source": [
    "# create confusion matrix\n",
    "confusion_matrix_lasso = test_lasso.select('label_idx','prediction')\n",
    "# ‘label’ is row and ‘prediction’ is column\n",
    "confusion_matrix_lasso.stat.crosstab('label_idx','prediction').toPandas()"
   ]
  },
  {
   "cell_type": "markdown",
   "metadata": {},
   "source": [
    "Out of 4,372 observations it misclassified 921. This means it had 78.93% accuracy."
   ]
  },
  {
   "cell_type": "code",
   "execution_count": 39,
   "metadata": {},
   "outputs": [
    {
     "name": "stdout",
     "output_type": "stream",
     "text": [
      "area under PR on test data for lasso:  0.7920453750738384\n"
     ]
    }
   ],
   "source": [
    "# test error\n",
    "test_error_lasso = class_eval.evaluate(test_lasso)\n",
    "print(\"area under PR on test data for lasso: \", test_error_lasso)"
   ]
  },
  {
   "cell_type": "code",
   "execution_count": 52,
   "metadata": {},
   "outputs": [
    {
     "name": "stdout",
     "output_type": "stream",
     "text": [
      "Lasso intercept:  0.6019121645111136\n",
      "Lasso coefficients:  [-0.05556824 -0.40960482 -0.66889537 -0.42629834  0.30525835  0.29229773\n",
      " -0.21763205  0.          0.54582108 -1.65467761]\n"
     ]
    }
   ],
   "source": [
    "# output coefficients\n",
    "print(\"Lasso intercept: \", lasso_model.intercept)\n",
    "coefficients_lasso = lasso_model.coefficients[0:10] # first ten coefficients only\n",
    "print(\"Lasso coefficients: \", coefficients_lasso)"
   ]
  },
  {
   "cell_type": "code",
   "execution_count": 169,
   "metadata": {},
   "outputs": [
    {
     "data": {
      "image/png": "[encoded data removed]",
      "text/plain": [
       "<Figure size 432x288 with 1 Axes>"
      ]
     },
     "metadata": {
      "needs_background": "light"
     },
     "output_type": "display_data"
    }
   ],
   "source": [
    "# plot coefficients\n",
    "beta = np.sort(lasso_model.coefficients)\n",
    "\n",
    "plt.plot(beta)\n",
    "plt.ylabel('Beta Coefficients')\n",
    "plt.show()"
   ]
  },
  {
   "cell_type": "markdown",
   "metadata": {},
   "source": [
    "Visualization of area under PR:"
   ]
  },
  {
   "cell_type": "code",
   "execution_count": 40,
   "metadata": {},
   "outputs": [
    {
     "data": {
      "image/png": "[encoded data removed]",
      "text/plain": [
       "<Figure size 432x288 with 1 Axes>"
      ]
     },
     "metadata": {
      "needs_background": "light"
     },
     "output_type": "display_data"
    }
   ],
   "source": [
    "logistic_summary_lasso = lasso_model.summary\n",
    "\n",
    "# Precision-Recall Curve\n",
    "pr2 = logistic_summary_lasso.pr.toPandas()\n",
    "plt.plot(pr2['recall'],pr2['precision'])\n",
    "plt.ylabel('Precision')\n",
    "plt.xlabel('Recall')\n",
    "plt.show()"
   ]
  },
  {
   "cell_type": "code",
   "execution_count": 41,
   "metadata": {},
   "outputs": [],
   "source": [
    "# add predictions to ml_results\n",
    "add_col = test_lasso.select('prediction')\n",
    "add_col = add_col.withColumn('id2', W.row_number().over(Window.orderBy(W.monotonically_increasing_id())))\n",
    "ml_results = ml_results.join(add_col,(ml_results.id==add_col.id2))\n",
    "ml_results = ml_results.drop('id2')\n",
    "ml_results = ml_results.withColumnRenamed('prediction','lasso_pred')"
   ]
  },
  {
   "cell_type": "markdown",
   "metadata": {},
   "source": [
    "### 4c) Ridge Regression"
   ]
  },
  {
   "cell_type": "markdown",
   "metadata": {},
   "source": [
    "***Cross Validation to Determine `regParam`***"
   ]
  },
  {
   "cell_type": "code",
   "execution_count": 42,
   "metadata": {},
   "outputs": [],
   "source": [
    "# create ridge model\n",
    "ridge_cv = LogisticRegression(featuresCol='count_vec', labelCol='label_idx', elasticNetParam=0)\n",
    "# parameter grid\n",
    "pars121 = ParamGridBuilder().addGrid(ridge_cv.regParam,[0.1,1,5,10]).build()\n",
    "# create cross validator\n",
    "cv_ridge_1 = CrossValidator().setEstimator(ridge_cv)\\\n",
    "                             .setEvaluator(class_eval)\\\n",
    "                             .setEstimatorParamMaps(pars121)\\\n",
    "                             .setNumFolds(5)\\\n",
    "                             .setSeed(135)"
   ]
  },
  {
   "cell_type": "code",
   "execution_count": null,
   "metadata": {},
   "outputs": [],
   "source": [
    "# run cross validation\n",
    "cv_ridge_model_1 = cv_ridge_1.fit(train)\n",
    "# get best model\n",
    "best_ridge_1 = cv_ridge_model_1.bestModel\n",
    "# output best parameter\n",
    "best_ridge_1._java_obj.getRegParam()"
   ]
  },
  {
   "cell_type": "markdown",
   "metadata": {},
   "source": [
    "Run cross validation a second time:"
   ]
  },
  {
   "cell_type": "code",
   "execution_count": 43,
   "metadata": {},
   "outputs": [],
   "source": [
    "# parameter grid\n",
    "pars122 = ParamGridBuilder().addGrid(ridge_cv.regParam,[0.001,0.01,0.1,0.5]).build()\n",
    "# create cross validator\n",
    "cv_ridge_2 = CrossValidator().setEstimator(ridge_cv)\\\n",
    "                             .setEvaluator(class_eval)\\\n",
    "                             .setEstimatorParamMaps(pars122)\\\n",
    "                             .setNumFolds(5)\\\n",
    "                             .setSeed(135)"
   ]
  },
  {
   "cell_type": "code",
   "execution_count": null,
   "metadata": {},
   "outputs": [],
   "source": [
    "# run cross validation a second time\n",
    "cv_ridge_model_2 = cv_ridge_2.fit(train)\n",
    "# get best model\n",
    "best_ridge_2 = cv_ridge_model_2.bestModel\n",
    "# output best parameter\n",
    "best_ridge_2._java_obj.getRegParam()"
   ]
  },
  {
   "cell_type": "markdown",
   "metadata": {},
   "source": [
    "The final ridge regression model will use `regParam=0.1`."
   ]
  },
  {
   "cell_type": "markdown",
   "metadata": {},
   "source": [
    "***Test the Model***"
   ]
  },
  {
   "cell_type": "code",
   "execution_count": 44,
   "metadata": {},
   "outputs": [],
   "source": [
    "# create the final model\n",
    "ridge = LogisticRegression(featuresCol='count_vec', labelCol='label_idx', elasticNetParam=0, regParam=0.1)\n",
    "# train the model\n",
    "ridge_model = ridge.fit(train)\n",
    "# obtain predictions for test\n",
    "test_ridge = ridge_model.transform(test)"
   ]
  },
  {
   "cell_type": "code",
   "execution_count": 45,
   "metadata": {},
   "outputs": [
    {
     "data": {
      "text/html": [
       "<div>\n",
       "<style scoped>\n",
       "    .dataframe tbody tr th:only-of-type {\n",
       "        vertical-align: middle;\n",
       "    }\n",
       "\n",
       "    .dataframe tbody tr th {\n",
       "        vertical-align: top;\n",
       "    }\n",
       "\n",
       "    .dataframe thead th {\n",
       "        text-align: right;\n",
       "    }\n",
       "</style>\n",
       "<table border=\"1\" class=\"dataframe\">\n",
       "  <thead>\n",
       "    <tr style=\"text-align: right;\">\n",
       "      <th></th>\n",
       "      <th>label_idx_prediction</th>\n",
       "      <th>0.0</th>\n",
       "      <th>1.0</th>\n",
       "    </tr>\n",
       "  </thead>\n",
       "  <tbody>\n",
       "    <tr>\n",
       "      <th>0</th>\n",
       "      <td>1.0</td>\n",
       "      <td>590</td>\n",
       "      <td>1003</td>\n",
       "    </tr>\n",
       "    <tr>\n",
       "      <th>1</th>\n",
       "      <td>0.0</td>\n",
       "      <td>2479</td>\n",
       "      <td>300</td>\n",
       "    </tr>\n",
       "  </tbody>\n",
       "</table>\n",
       "</div>"
      ],
      "text/plain": [
       "  label_idx_prediction   0.0   1.0\n",
       "0                  1.0   590  1003\n",
       "1                  0.0  2479   300"
      ]
     },
     "execution_count": 45,
     "metadata": {},
     "output_type": "execute_result"
    }
   ],
   "source": [
    "# create confusion matrix\n",
    "confusion_matrix_ridge = test_ridge.select('label_idx','prediction')\n",
    "# ‘label’ is row and ‘prediction’ is column\n",
    "confusion_matrix_ridge.stat.crosstab('label_idx','prediction').toPandas()"
   ]
  },
  {
   "cell_type": "markdown",
   "metadata": {},
   "source": [
    "Out of 4,372 observations it misclassified 890. This means it had 79.64% accuracy."
   ]
  },
  {
   "cell_type": "code",
   "execution_count": 46,
   "metadata": {},
   "outputs": [
    {
     "name": "stdout",
     "output_type": "stream",
     "text": [
      "area under PR on test data for ridge:  0.7936207689440484\n"
     ]
    }
   ],
   "source": [
    "# test error\n",
    "test_error_ridge = class_eval.evaluate(test_ridge)\n",
    "print(\"area under PR on test data for ridge: \", test_error_ridge)"
   ]
  },
  {
   "cell_type": "code",
   "execution_count": 53,
   "metadata": {},
   "outputs": [
    {
     "name": "stdout",
     "output_type": "stream",
     "text": [
      "Ridge intercept:  0.162713326975279\n",
      "Ridge coefficients:  [-0.11917454 -0.17943468 -0.3480492  -0.19705996  0.29595637  0.31548129\n",
      " -0.16686932  0.23792757  0.25209154 -0.68724868]\n"
     ]
    }
   ],
   "source": [
    "# output coefficients\n",
    "print(\"Ridge intercept: \", ridge_model.intercept)\n",
    "coefficients_ridge = ridge_model.coefficients[0:10] # first ten coefficients only\n",
    "print(\"Ridge coefficients: \", coefficients_ridge)"
   ]
  },
  {
   "cell_type": "code",
   "execution_count": 182,
   "metadata": {},
   "outputs": [
    {
     "data": {
      "image/png": "[encoded data removed]",
      "text/plain": [
       "<Figure size 432x288 with 1 Axes>"
      ]
     },
     "metadata": {
      "needs_background": "light"
     },
     "output_type": "display_data"
    }
   ],
   "source": [
    "# plot coefficients\n",
    "beta = np.sort(ridge_model.coefficients)\n",
    "\n",
    "plt.plot(beta)\n",
    "plt.ylabel('Beta Coefficients')\n",
    "plt.show()"
   ]
  },
  {
   "cell_type": "markdown",
   "metadata": {},
   "source": [
    "Visualization of area under PR:"
   ]
  },
  {
   "cell_type": "code",
   "execution_count": 47,
   "metadata": {},
   "outputs": [
    {
     "data": {
      "image/png": "[encoded data removed]",
      "text/plain": [
       "<Figure size 432x288 with 1 Axes>"
      ]
     },
     "metadata": {
      "needs_background": "light"
     },
     "output_type": "display_data"
    }
   ],
   "source": [
    "logistic_summary_ridge = ridge_model.summary\n",
    "\n",
    "# Precision-Recall Curve\n",
    "pr3 = logistic_summary_ridge.pr.toPandas()\n",
    "plt.plot(pr3['recall'],pr3['precision'])\n",
    "plt.ylabel('Precision')\n",
    "plt.xlabel('Recall')\n",
    "plt.show()"
   ]
  },
  {
   "cell_type": "code",
   "execution_count": 48,
   "metadata": {},
   "outputs": [],
   "source": [
    "# add predictions to ml_results\n",
    "add_col = test_ridge.select('prediction')\n",
    "add_col = add_col.withColumn('id2', W.row_number().over(Window.orderBy(W.monotonically_increasing_id())))\n",
    "ml_results = ml_results.join(add_col,(ml_results.id==add_col.id2))\n",
    "ml_results = ml_results.drop('id2')\n",
    "ml_results = ml_results.withColumnRenamed('prediction','ridge_pred')"
   ]
  },
  {
   "cell_type": "markdown",
   "metadata": {},
   "source": [
    "## 5) Linear Support Vector Machine"
   ]
  },
  {
   "cell_type": "markdown",
   "metadata": {},
   "source": [
    "***Cross Validation to Determine `maxIter` and `regParam`***"
   ]
  },
  {
   "cell_type": "code",
   "execution_count": 142,
   "metadata": {},
   "outputs": [],
   "source": [
    "# create linear support vector machine model\n",
    "lsvc = LinearSVC(labelCol=\"label_idx\", featuresCol=\"count_vec\")\n",
    "\n",
    "# parameter builder\n",
    "parssvm = ParamGridBuilder().addGrid(lsvc.maxIter,[50, 100, 200])\\\n",
    "                            .addGrid(lsvc.regParam,[0.01, 0.1, 1])\\\n",
    "                            .build()\n",
    "\n",
    "# create cross validator\n",
    "cv_lsvc = CrossValidator().setEstimator(lsvc)\\\n",
    "                         .setEvaluator(class_eval)\\\n",
    "                         .setEstimatorParamMaps(parssvm)\\\n",
    "                         .setNumFolds(5)\\\n",
    "                         .setSeed(135)"
   ]
  },
  {
   "cell_type": "code",
   "execution_count": 143,
   "metadata": {},
   "outputs": [],
   "source": [
    "# run cross validation\n",
    "cv_lsvc_model = cv_lsvc.fit(train)\n",
    "# get best model\n",
    "best_lsvc = cv_lsvc_model.bestModel"
   ]
  },
  {
   "cell_type": "markdown",
   "metadata": {},
   "source": [
    "***Test the Model***"
   ]
  },
  {
   "cell_type": "code",
   "execution_count": 144,
   "metadata": {},
   "outputs": [
    {
     "data": {
      "text/html": [
       "<div>\n",
       "<style scoped>\n",
       "    .dataframe tbody tr th:only-of-type {\n",
       "        vertical-align: middle;\n",
       "    }\n",
       "\n",
       "    .dataframe tbody tr th {\n",
       "        vertical-align: top;\n",
       "    }\n",
       "\n",
       "    .dataframe thead th {\n",
       "        text-align: right;\n",
       "    }\n",
       "</style>\n",
       "<table border=\"1\" class=\"dataframe\">\n",
       "  <thead>\n",
       "    <tr style=\"text-align: right;\">\n",
       "      <th></th>\n",
       "      <th>label_idx_prediction</th>\n",
       "      <th>0.0</th>\n",
       "      <th>1.0</th>\n",
       "    </tr>\n",
       "  </thead>\n",
       "  <tbody>\n",
       "    <tr>\n",
       "      <th>0</th>\n",
       "      <td>1.0</td>\n",
       "      <td>499</td>\n",
       "      <td>1094</td>\n",
       "    </tr>\n",
       "    <tr>\n",
       "      <th>1</th>\n",
       "      <td>0.0</td>\n",
       "      <td>2391</td>\n",
       "      <td>388</td>\n",
       "    </tr>\n",
       "  </tbody>\n",
       "</table>\n",
       "</div>"
      ],
      "text/plain": [
       "  label_idx_prediction   0.0   1.0\n",
       "0                  1.0   499  1094\n",
       "1                  0.0  2391   388"
      ]
     },
     "execution_count": 144,
     "metadata": {},
     "output_type": "execute_result"
    }
   ],
   "source": [
    "# fit best model on test\n",
    "lsvc_test = best_lsvc.transform(test)\n",
    "\n",
    "# create confusion matrix\n",
    "confusion_matrix_lsvc = lsvc_test.select('label_idx','prediction')\n",
    "# ‘label’ is row and ‘prediction’ is column\n",
    "confusion_matrix_lsvc.stat.crosstab('label_idx','prediction').toPandas()"
   ]
  },
  {
   "cell_type": "markdown",
   "metadata": {},
   "source": [
    "Out of 4,372 observations it successfully classified 3485. The accuracy rate is 79.71%."
   ]
  },
  {
   "cell_type": "code",
   "execution_count": 181,
   "metadata": {},
   "outputs": [
    {
     "data": {
      "text/plain": [
       "array([-0.0904359 , -0.22336926, -0.37227009, -0.22358878,  0.34605702,\n",
       "        0.3859803 , -0.17548061,  0.20102468,  0.21975555, -0.63596641])"
      ]
     },
     "execution_count": 181,
     "metadata": {},
     "output_type": "execute_result"
    }
   ],
   "source": [
    "# model coefficients\n",
    "\n",
    "best_lsvc.coefficients[0:10] # first ten only"
   ]
  },
  {
   "cell_type": "code",
   "execution_count": 145,
   "metadata": {},
   "outputs": [],
   "source": [
    "# add predictions to ml_results\n",
    "add_col = lsvc_test.select('prediction')\n",
    "add_col = add_col.withColumn('id2', W.row_number().over(Window.orderBy(W.monotonically_increasing_id())))\n",
    "ml_results = ml_results.join(add_col,(ml_results.id==add_col.id2))\n",
    "ml_results = ml_results.drop('id2')\n",
    "ml_results = ml_results.withColumnRenamed('prediction','lsvc_pred')"
   ]
  },
  {
   "cell_type": "markdown",
   "metadata": {},
   "source": [
    "# Save Data Frames"
   ]
  },
  {
   "cell_type": "code",
   "execution_count": null,
   "metadata": {},
   "outputs": [],
   "source": [
    "# store data frames for additional programs\n",
    "ml_dfs = [lsvc_test.toPandas(), ml_results.toPandas()]\n",
    "%store ml_dfs"
   ]
  },
  {
   "cell_type": "code",
   "execution_count": null,
   "metadata": {},
   "outputs": [],
   "source": []
  }
 ],
 "metadata": {
  "kernelspec": {
   "display_name": "Python 3",
   "language": "python",
   "name": "python3"
  },
  "language_info": {
   "codemirror_mode": {
    "name": "ipython",
    "version": 3
   },
   "file_extension": ".py",
   "mimetype": "text/x-python",
   "name": "python",
   "nbconvert_exporter": "python",
   "pygments_lexer": "ipython3",
   "version": "3.7.1"
  }
 },
 "nbformat": 4,
 "nbformat_minor": 4
}
